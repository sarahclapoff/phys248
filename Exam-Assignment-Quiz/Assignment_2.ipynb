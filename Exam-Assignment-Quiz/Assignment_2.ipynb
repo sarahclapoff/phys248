{
 "cells": [
  {
   "cell_type": "markdown",
   "metadata": {},
   "source": [
    "# Assignment 2\n",
    "\n",
    "Due Mon, Feb 15, 9:30am, commited to your `phys248` repo on the Abacus GitLab server. \n",
    "\n",
    "All code that is required to solve the problems in the specified ways must be in the committed notebook. The notebook must execute on the Abacus server from start to finish when opened. Test this by restarting the kernel! If commands are executed on the terminal, still copy-paste them into a notebook cell and comment accordingly that the commands have been executed in the terminal. The grader must be able to reproduce your work. No late submission will be accepted. "
   ]
  },
  {
   "cell_type": "markdown",
   "metadata": {},
   "source": [
    "## Problem 1\n",
    "\n",
    "1. Download the _Metaphysics, by Aristotle (350 BC)_ , `http://www.textfiles.com/etext/AUTHORS/ARISTOTLE/aristotle-metaphysics-77.txt` using the appropriate terminal command. \n",
    "2. How many lines contain the string `physic`?\n",
    "3. How many characters are in all lines combined that contain the string `physic` and the string `thing`?\n",
    "3. Create a file called `substance.txt` that contains all lines that contain the string `substance`.\n",
    "4. Write a command that will print the 93rd line of the file `substance.txt`.\n",
    "6. Write a combination of two commands, the first if which involves the `set` command to print the 3rd word in the 93rd line of the file `substance.txt`.\n",
    "\n",
    "Do this problem first on the terminal command line. Once you figured out the correct sequence of commands copy paste them into a code cell below that starts with the `%%bash` magic command so that your grader can execute that one cell and get the answers in sequence for all"
   ]
  },
  {
   "cell_type": "code",
   "execution_count": 7,
   "metadata": {},
   "outputs": [
    {
     "name": "stdout",
     "output_type": "stream",
     "text": [
      "\n",
      "2 ***\n",
      "39\n",
      "\n",
      "3 ***\n",
      "6\n",
      "\n",
      "4 ***\n",
      "\n",
      "5 ***\n",
      "substance, or destructions or privations or qualities of substance, or\n",
      "\n",
      "6 ***\n",
      "destructions\n"
     ]
    }
   ],
   "source": [
    "%%bash\n",
    "\n",
    "# command for item 1\n",
    "wget http://www.textfiles.com/etext/AUTHORS/ARISTOTLE/aristotle-metaphysics-77.txt\n",
    "echo \"\"\n",
    "echo \"2 ***\"\n",
    "# write here command for item 2\n",
    "grep \"physic\" aristotle-metaphysics-77.txt | wc -l\n",
    "echo \"\"\n",
    "echo \"3 ***\"\n",
    "# write here command for item 3\n",
    "grep \"physic\" aristotle-metaphysics-77.txt | grep \"thing\" | wc -l\n",
    "echo \"\"\n",
    "echo \"4 ***\"\n",
    "\n",
    "grep \"substance\" aristotle-metaphysics-77.txt > substance.txt\n",
    "echo \"\"\n",
    "echo \"5 ***\"\n",
    "\n",
    "head -93 substance.txt | tail -1 \n",
    "echo \"\"\n",
    "echo \"6 ***\"\n",
    "\n",
    "#set is typically used to alter options for written bash scripts, not usually for single-line commands like this one?\n",
    "#assuming typo, using 'sed'\n",
    "sed '93p;d' substance.txt | awk '{print $3}'\n",
    "# and so on ..."
   ]
  },
  {
   "cell_type": "markdown",
   "metadata": {},
   "source": [
    "## Problem 2\n",
    "\n",
    "### 2.1\n",
    "The [Gaussian function](https://en.wikipedia.org/wiki/Gaussian_function) is given by \n",
    "$$\n",
    "f(x) = a e^{-\\frac{(x-b)^2}{2c^2}}\n",
    "$$\n",
    "\n",
    "Write a code cell that calculates $f(x)$ represented by the variable `fv1` for the default parameter values `a=c=1` and `b=0` for $x \\in [-3,5]$. Use an array `x` for $x$ that divides the range into 70 equal intervals. \n",
    "\n",
    "Use your code cell to create the following additional arrays:\n",
    "* `fv2`: default parameters but $a=0.75$\n",
    "* `fv3`: default parameters but $b=1.25$\n",
    "* `fv4`: default parameters but $c=1.5$\n",
    "\n",
    "Make a line plot of all four cases. Provide all elements required for a line plots, such as a legend for each line and axis labels. Use a different line style and color for each line. "
   ]
  },
  {
   "cell_type": "code",
   "execution_count": 1,
   "metadata": {},
   "outputs": [
    {
     "ename": "NameError",
     "evalue": "name 'close' is not defined",
     "output_type": "error",
     "traceback": [
      "\u001b[0;31m---------------------------------------------------------------------------\u001b[0m",
      "\u001b[0;31mNameError\u001b[0m                                 Traceback (most recent call last)",
      "\u001b[0;32m<ipython-input-1-06fb68e6ead3>\u001b[0m in \u001b[0;36m<module>\u001b[0;34m\u001b[0m\n\u001b[1;32m     13\u001b[0m \u001b[0mfv4\u001b[0m \u001b[0;34m=\u001b[0m \u001b[0mfvn\u001b[0m\u001b[0;34m(\u001b[0m\u001b[0ma\u001b[0m\u001b[0;34m,\u001b[0m\u001b[0mb\u001b[0m\u001b[0;34m,\u001b[0m \u001b[0;36m1.5\u001b[0m\u001b[0;34m,\u001b[0m\u001b[0mx\u001b[0m\u001b[0;34m)\u001b[0m\u001b[0;34m\u001b[0m\u001b[0;34m\u001b[0m\u001b[0m\n\u001b[1;32m     14\u001b[0m \u001b[0;34m\u001b[0m\u001b[0m\n\u001b[0;32m---> 15\u001b[0;31m \u001b[0mclose\u001b[0m\u001b[0;34m(\u001b[0m\u001b[0;36m1\u001b[0m\u001b[0;34m)\u001b[0m\u001b[0;34m;\u001b[0m \u001b[0mfig\u001b[0m \u001b[0;34m=\u001b[0m \u001b[0mplt\u001b[0m\u001b[0;34m.\u001b[0m\u001b[0mfigure\u001b[0m\u001b[0;34m(\u001b[0m\u001b[0;36m1\u001b[0m\u001b[0;34m)\u001b[0m\u001b[0;34m\u001b[0m\u001b[0;34m\u001b[0m\u001b[0m\n\u001b[0m\u001b[1;32m     16\u001b[0m \u001b[0mplt\u001b[0m\u001b[0;34m.\u001b[0m\u001b[0mplot\u001b[0m\u001b[0;34m(\u001b[0m\u001b[0mx\u001b[0m\u001b[0;34m,\u001b[0m \u001b[0mfv1\u001b[0m\u001b[0;34m,\u001b[0m \u001b[0mlabel\u001b[0m\u001b[0;34m=\u001b[0m\u001b[0;34m'fv1'\u001b[0m\u001b[0;34m)\u001b[0m\u001b[0;34m\u001b[0m\u001b[0;34m\u001b[0m\u001b[0m\n\u001b[1;32m     17\u001b[0m \u001b[0mplt\u001b[0m\u001b[0;34m.\u001b[0m\u001b[0mplot\u001b[0m\u001b[0;34m(\u001b[0m\u001b[0mx\u001b[0m\u001b[0;34m,\u001b[0m \u001b[0mfv2\u001b[0m\u001b[0;34m,\u001b[0m \u001b[0;34m'--'\u001b[0m\u001b[0;34m,\u001b[0m \u001b[0mlabel\u001b[0m\u001b[0;34m=\u001b[0m\u001b[0;34m'fv2'\u001b[0m\u001b[0;34m)\u001b[0m\u001b[0;34m\u001b[0m\u001b[0;34m\u001b[0m\u001b[0m\n",
      "\u001b[0;31mNameError\u001b[0m: name 'close' is not defined"
     ]
    }
   ],
   "source": [
    "import numpy as np\n",
    "import matplotlib.pyplot as plt\n",
    "\n",
    "def fvn(a,b,c,x):\n",
    "    return a*np.e**(-(x-b)**2/(2*c**2))\n",
    "\n",
    "x = np.linspace(-3, 5, 70)\n",
    "a = 1; c = 1; b = 0\n",
    "\n",
    "fv1 = fvn(a,b,c,x)\n",
    "fv2 = fvn(.75,b,c,x)\n",
    "fv3 = fvn(a, 1.25,c,x)\n",
    "fv4 = fvn(a,b, 1.5,x)\n",
    "\n",
    "plt.close(1); fig = plt.figure(1)\n",
    "plt.plot(x, fv1, label='fv1')\n",
    "plt.plot(x, fv2, '--', label='fv2')\n",
    "plt.plot(x, fv3, '-.', label='fv3')\n",
    "plt.plot(x, fv4, ':', label='fv4')\n",
    "plt.legend()\n",
    "plt.title('fvn(x) For Various Values of a,b,c')\n",
    "plt.xlabel('x')\n",
    "plt.ylabel('fvn(x),  n=1,2,3,4')\n",
    "plt.show()"
   ]
  },
  {
   "cell_type": "markdown",
   "metadata": {},
   "source": [
    "Briefly describe the meaning of each parameter (in this markdown cell):\n",
    "\n",
    "\n",
    "a scales the function vertically.\n",
    "\n",
    "b translates the function horizontally.\n",
    "\n",
    "c scales the function horizontally.\n"
   ]
  },
  {
   "cell_type": "markdown",
   "metadata": {},
   "source": [
    "### 2.2\n",
    "Without using a loop\n",
    "1. Find $x$ values `xmax1` and `xmax3` for which the arrays `fv1` and `fv3` have a maximum.\n",
    "2. Find the $x$ values for which the values of array `fv3` are larger than `fv2` and smaller than `fv1`."
   ]
  },
  {
   "cell_type": "code",
   "execution_count": 61,
   "metadata": {},
   "outputs": [
    {
     "name": "stdout",
     "output_type": "stream",
     "text": [
      "The x values are: [0.47826087 0.5942029 ]\n"
     ]
    }
   ],
   "source": [
    "xmax1 = max(fv1)\n",
    "xmax2 = max(fv3)\n",
    "\n",
    "fv3_ind = [i for i,f in enumerate(fv3) if fv2[i]<f<fv1[i]]\n",
    "x_vals = x[fv3_ind]\n",
    "print('The x values are:', x_vals)"
   ]
  },
  {
   "cell_type": "markdown",
   "metadata": {},
   "source": [
    "### 2.3\n",
    "Given is the function\n",
    "$$ z(x,y) = x^4 \\sin y$$\n",
    "Use a $(x,y)$ grid of $40\\times40$ equal rectangles with $x \\in [1.5,3.7]$ and $y \\in [-3.2,4.8]$.\n",
    "\n",
    "1. Make a surface plot\n",
    "2. Make an image of the $z$ array"
   ]
  },
  {
   "cell_type": "code",
   "execution_count": 1,
   "metadata": {},
   "outputs": [
    {
     "name": "stdout",
     "output_type": "stream",
     "text": [
      "Populating the interactive namespace from numpy and matplotlib\n"
     ]
    }
   ],
   "source": [
    "%pylab ipympl\n",
    "from mpl_toolkits.mplot3d import Axes3D\n",
    "from matplotlib import cm"
   ]
  },
  {
   "cell_type": "code",
   "execution_count": 2,
   "metadata": {},
   "outputs": [
    {
     "data": {
      "application/vnd.jupyter.widget-view+json": {
       "model_id": "cc0cc079e6634bb09ae12721ba7b8e26",
       "version_major": 2,
       "version_minor": 0
      },
      "text/plain": [
       "Canvas(toolbar=Toolbar(toolitems=[('Home', 'Reset original view', 'home', 'home'), ('Back', 'Back to previous …"
      ]
     },
     "metadata": {},
     "output_type": "display_data"
    },
    {
     "data": {
      "application/vnd.jupyter.widget-view+json": {
       "model_id": "d54a518680f6480080d83b455e5e2038",
       "version_major": 2,
       "version_minor": 0
      },
      "text/plain": [
       "Canvas(toolbar=Toolbar(toolitems=[('Home', 'Reset original view', 'home', 'home'), ('Back', 'Back to previous …"
      ]
     },
     "metadata": {},
     "output_type": "display_data"
    }
   ],
   "source": [
    "x = np.linspace(1.5, 3.7, 40)\n",
    "y = np.linspace(-3.2, 4.8, 40)\n",
    "xv, yv = np.meshgrid(x, y)\n",
    "z = xv**4 * np.sin(yv)\n",
    "\n",
    "#surface plot\n",
    "close(2); fig = plt.figure(2)\n",
    "ax = Axes3D(fig)\n",
    "ax.plot_surface(xv,yv,z, rstride=1, cstride=1, cmap=cm.inferno)\n",
    "plt.title('Surface Plot of z(x,y)')\n",
    "ax.set_xlabel('x')\n",
    "ax.set_ylabel('y')\n",
    "ax.set_zlabel('z(x,y)')\n",
    "plt.show()\n",
    "\n",
    "#z array image\n",
    "plt.close(3); fig = plt.figure(3)\n",
    "imshow(z, cmap=cm.inferno, interpolation='gaussian')\n",
    "plt.title('Image of z(x,y) array')\n",
    "plt.xlabel('x')\n",
    "plt.ylabel('y')\n",
    "plt.show()"
   ]
  },
  {
   "cell_type": "markdown",
   "metadata": {},
   "source": [
    "### 2.4\n",
    "Create a plot of the two-dimensional Gaussian function\n",
    "$$\n",
    "h(x,y) = \\exp{-(x^2 + y^2)}\n",
    "$$\n",
    "for $x \\in [-1,1.2]$ and $y \\in [-1,1.5]$ divided into a grid of $50\\times50$ equal rectangles. \n",
    "Do both a \n",
    "1. 3D surface plot\n",
    "2. Contour plot with labels"
   ]
  },
  {
   "cell_type": "code",
   "execution_count": 108,
   "metadata": {},
   "outputs": [
    {
     "data": {
      "application/vnd.jupyter.widget-view+json": {
       "model_id": "721126b602f54d1aaac10c10a3dad2b1",
       "version_major": 2,
       "version_minor": 0
      },
      "text/plain": [
       "Canvas(toolbar=Toolbar(toolitems=[('Home', 'Reset original view', 'home', 'home'), ('Back', 'Back to previous …"
      ]
     },
     "metadata": {},
     "output_type": "display_data"
    },
    {
     "data": {
      "application/vnd.jupyter.widget-view+json": {
       "model_id": "f59061b0273c4c57972632fe3f9a0651",
       "version_major": 2,
       "version_minor": 0
      },
      "text/plain": [
       "Canvas(toolbar=Toolbar(toolitems=[('Home', 'Reset original view', 'home', 'home'), ('Back', 'Back to previous …"
      ]
     },
     "metadata": {},
     "output_type": "display_data"
    }
   ],
   "source": [
    "x = np.linspace(-1, 1.2, 50)\n",
    "y = np.linspace(-1, 1.5, 50)\n",
    "xv, yv = np.meshgrid(x,y)\n",
    "h = np.exp(-(xv**2 + yv**2))\n",
    "\n",
    "#surface plot\n",
    "close(4); fig = plt.figure(4)\n",
    "ax = Axes3D(fig)\n",
    "ax.plot_surface(xv,yv,h, rstride=1, cstride=1, cmap=cm.inferno)\n",
    "plt.title('Surface Plot of h(x,y)')\n",
    "ax.set_xlabel('x')\n",
    "ax.set_ylabel('y')\n",
    "ax.set_zlabel('h(x,y)')\n",
    "plt.show()\n",
    "\n",
    "#contour plot\n",
    "close(5); fig = plt.figure(5)\n",
    "CS = plt.contour(xv, yv, h, 15, cmap=cm.inferno)\n",
    "plt.clabel(CS, inline=1, fontsize=8)\n",
    "plt.title(\"Contour plot of h(x,y)\")\n",
    "plt.xlabel('x')\n",
    "plt.ylabel('y')\n",
    "plt.show()"
   ]
  },
  {
   "cell_type": "markdown",
   "metadata": {},
   "source": [
    "## Problem 3\n",
    "\n",
    "Analyse wave dats from ocean buoy \"Station 46132 - South Brooks\". \n",
    "### 3.1\n",
    "\n",
    "Find and clone the repo _Assignment2_P4_ from the Abacus GitLab server. Unzip the file `files.zip` and review the content, i.e. open the data file, and review the links in the Markdown file that point to the source of the data and the data description."
   ]
  },
  {
   "cell_type": "code",
   "execution_count": null,
   "metadata": {},
   "outputs": [],
   "source": [
    "%%bash\n",
    "#cloning repo into home directory, then unzipping into current (phys248/exams-assignments/)\n",
    "\n",
    "cd ~\n",
    "git clone ssh://git@abacus.phys.uvic.ca:2233/fherwig/assignment2_p4.git\n",
    "unzip -d ../phys248/Exam-Assignment-Quiz/ files.zip\n",
    "\n",
    "\n",
    "# insert bash commands here after finding the right sequence on the terminal command line"
   ]
  },
  {
   "cell_type": "markdown",
   "metadata": {},
   "source": [
    "### 3.2\n",
    "1. Read the first 9 columns of the data file `46132.txt` and write them into variables `YY,MM,DD,hh,mm,WDIR,WSPD,GST,WVHT`. You can either of the two methods of reading ASCII text files we have covered in class. \n",
    "2. Process the columns `YY,MM,DD,hh,mm` to create `datetime` objects and from those create a time stamp array. Link to [format codes](https://docs.python.org/3/library/datetime.html#strftime-and-strptime-format-codes)."
   ]
  },
  {
   "cell_type": "code",
   "execution_count": 3,
   "metadata": {},
   "outputs": [],
   "source": [
    "from datetime import datetime\n",
    "\n",
    "YY = []; MM=[]; DD=[]; hh=[]; mm=[]; WDIR=[]; WSPD=[]; GST=[]; WVHT=[]\n",
    "cols=[YY,MM,DD,hh,mm,WDIR,WSPD,GST,WVHT]\n",
    "for line in open('46132.txt', 'r'):\n",
    "    l = line.split()\n",
    "    for i, c in enumerate(cols):\n",
    "        c.append(l[i])    \n",
    "for c in cols:\n",
    "    del c[0:2]\n",
    "    \n",
    "#2:\n",
    "time_stamp = [datetime.strptime(\"{:s} {:s} {:s} {:s} {:s}\".format(Y,M,D,h,m), \"%Y %m %d %H %M\") for (Y,M,D,h,m) in zip(YY,MM,DD,hh,mm)]"
   ]
  },
  {
   "cell_type": "markdown",
   "metadata": {},
   "source": [
    "### 3.3\n",
    "1. Make a plot of wave height vs. time in hours, where $t=0\\mathrm{hr}$ corresponds to the time of the earliest date provided in the table. \n",
    "2. Make a plot of wind speed in units of knots as a function of time in hours. One nautical mile is $\\mathrm{nm} = 1.852\\mathrm{km}$ and a knot is $\\mathrm{nm/hr}$.\n",
    "3. Make plot of wind direction as a funtion of time"
   ]
  },
  {
   "cell_type": "code",
   "execution_count": 4,
   "metadata": {},
   "outputs": [
    {
     "data": {
      "application/vnd.jupyter.widget-view+json": {
       "model_id": "9d9b5317f07f4ff9891be05c19687913",
       "version_major": 2,
       "version_minor": 0
      },
      "text/plain": [
       "Canvas(toolbar=Toolbar(toolitems=[('Home', 'Reset original view', 'home', 'home'), ('Back', 'Back to previous …"
      ]
     },
     "metadata": {},
     "output_type": "display_data"
    },
    {
     "data": {
      "application/vnd.jupyter.widget-view+json": {
       "model_id": "0e47e595389c4171bc229051081233c8",
       "version_major": 2,
       "version_minor": 0
      },
      "text/plain": [
       "Canvas(toolbar=Toolbar(toolitems=[('Home', 'Reset original view', 'home', 'home'), ('Back', 'Back to previous …"
      ]
     },
     "metadata": {},
     "output_type": "display_data"
    },
    {
     "data": {
      "application/vnd.jupyter.widget-view+json": {
       "model_id": "2f446eb2dd344873bbc059b31d48a421",
       "version_major": 2,
       "version_minor": 0
      },
      "text/plain": [
       "Canvas(toolbar=Toolbar(toolitems=[('Home', 'Reset original view', 'home', 'home'), ('Back', 'Back to previous …"
      ]
     },
     "metadata": {},
     "output_type": "display_data"
    }
   ],
   "source": [
    "close(6); fig = plt.figure(6)\n",
    "plt.plot(time_stamp, WVHT)\n",
    "plt.title(\"1. Wave height vs Time\")\n",
    "plt.xlabel('time (mm-dd-h)')\n",
    "plt.ylabel('Wave height (m)')\n",
    "plt.show()\n",
    "\n",
    "close(7); fig=plt.figure(7)\n",
    "WSPD = np.array([float(i) for i in WSPD])\n",
    "wspd_knot = WSPD*3.6/1.852\n",
    "plt.plot(time_stamp, wspd_knot)\n",
    "plt.title('2. Wind Speed vs Time')\n",
    "plt.xlabel('time (mm-dd-h)')\n",
    "plt.ylabel('wind speed (knots)')\n",
    "plt.show()\n",
    "\n",
    "close(8); fig=plt.figure(8)\n",
    "plt.plot(time_stamp, WDIR)\n",
    "plt.title('3. Wind Direction vs Time')\n",
    "plt.xlabel('time (mm-dd-h)')\n",
    "plt.ylabel('wind direction (degT)')\n",
    "plt.show()\n"
   ]
  },
  {
   "cell_type": "code",
   "execution_count": 52,
   "metadata": {},
   "outputs": [
    {
     "data": {
      "image/png": "[encoded data removed]",
      "text/plain": [
       "<Figure size 432x288 with 1 Axes>"
      ]
     },
     "metadata": {
      "needs_background": "light"
     },
     "output_type": "display_data"
    },
    {
     "data": {
      "image/png": "[encoded data removed]",
      "text/plain": [
       "<Figure size 432x288 with 1 Axes>"
      ]
     },
     "metadata": {
      "needs_background": "light"
     },
     "output_type": "display_data"
    },
    {
     "data": {
      "image/png": "[encoded data removed]",
      "text/plain": [
       "<Figure size 432x288 with 1 Axes>"
      ]
     },
     "metadata": {
      "needs_background": "light"
     },
     "output_type": "display_data"
    }
   ],
   "source": [
    "#good one:\n",
    "#1: reverse to move back in time\n",
    "timestamp = np.array(timestamp[::-1])\n",
    "#subtract lowest and convert units\n",
    "time_hrs = (timestamp - timestamp[0])/3600\n",
    "#plot\n",
    "plt.plot(time_hrs, WVHT)\n",
    "plt.title(\"1. Wave height vs Time\")\n",
    "plt.xlabel('time (hrs)')\n",
    "plt.ylabel('Wave height (m)')\n",
    "plt.show()\n",
    "\n",
    "#2\n",
    "wspd_knot = WSPD*3.6/1.852\n",
    "plt.plot(time_hrs, wspd_knot)\n",
    "plt.title('2. Wind Speed vs Time')\n",
    "plt.xlabel('time (hrs)')\n",
    "plt.ylabel('wind speed (knots)')\n",
    "plt.show()\n",
    "\n",
    "#3\n",
    "plt.plot(time_hrs, WDIR)\n",
    "plt.title('3. Wind Direction vs Time')\n",
    "plt.xlabel('time (hrs)')\n",
    "plt.ylabel('wind direction (degT)')\n",
    "plt.show()"
   ]
  },
  {
   "cell_type": "markdown",
   "metadata": {},
   "source": [
    "### 3.4\n",
    "Make a plot of wave height as a function of time in which the wind speed is encoded by the size of the symbol and the wind direction is encoded by color. "
   ]
  },
  {
   "cell_type": "code",
   "execution_count": 54,
   "metadata": {},
   "outputs": [
    {
     "data": {
      "image/png": "[encoded data removed]",
      "text/plain": [
       "<Figure size 432x288 with 2 Axes>"
      ]
     },
     "metadata": {
      "needs_background": "light"
     },
     "output_type": "display_data"
    }
   ],
   "source": [
    "#good one:\n",
    "fac=65; area=fac*WVHT/max(WVHT)\n",
    "colours = WDIR/max(WDIR)\n",
    "\n",
    "\n",
    "plt.scatter(time_hrs, WVHT, s=area, c=colours, cmap='coolwarm', marker='o')\n",
    "plt.xlabel('time (hrs)')\n",
    "plt.ylabel('Wave height (m)')\n",
    "plt.colorbar()\n",
    "plt.show()\n"
   ]
  },
  {
   "cell_type": "code",
   "execution_count": 5,
   "metadata": {},
   "outputs": [
    {
     "data": {
      "application/vnd.jupyter.widget-view+json": {
       "model_id": "4802e8619c7d4a7a8e68a73e19ad9a96",
       "version_major": 2,
       "version_minor": 0
      },
      "text/plain": [
       "Canvas(toolbar=Toolbar(toolitems=[('Home', 'Reset original view', 'home', 'home'), ('Back', 'Back to previous …"
      ]
     },
     "metadata": {},
     "output_type": "display_data"
    },
    {
     "ename": "TypeError",
     "evalue": "unsupported operand type(s) for /: 'datetime.datetime' and 'datetime.datetime'",
     "output_type": "error",
     "traceback": [
      "\u001b[0;31m---------------------------------------------------------------------------\u001b[0m",
      "\u001b[0;31mTypeError\u001b[0m                                 Traceback (most recent call last)",
      "\u001b[0;32m<ipython-input-5-4e6de9253d48>\u001b[0m in \u001b[0;36m<module>\u001b[0;34m\u001b[0m\n\u001b[1;32m      3\u001b[0m \u001b[0mfac\u001b[0m\u001b[0;34m=\u001b[0m\u001b[0;36m65\u001b[0m\u001b[0;34m;\u001b[0m \u001b[0marea\u001b[0m\u001b[0;34m=\u001b[0m\u001b[0mfac\u001b[0m\u001b[0;34m*\u001b[0m\u001b[0mWVHT\u001b[0m\u001b[0;34m/\u001b[0m\u001b[0mmax\u001b[0m\u001b[0;34m(\u001b[0m\u001b[0mWVHT\u001b[0m\u001b[0;34m)\u001b[0m\u001b[0;34m\u001b[0m\u001b[0;34m\u001b[0m\u001b[0m\n\u001b[1;32m      4\u001b[0m \u001b[0;31m#get hours offset to get colours\u001b[0m\u001b[0;34m\u001b[0m\u001b[0;34m\u001b[0m\u001b[0;34m\u001b[0m\u001b[0m\n\u001b[0;32m----> 5\u001b[0;31m \u001b[0mcolours\u001b[0m \u001b[0;34m=\u001b[0m \u001b[0mnp\u001b[0m\u001b[0;34m.\u001b[0m\u001b[0marray\u001b[0m\u001b[0;34m(\u001b[0m\u001b[0mtime_stamp\u001b[0m\u001b[0;34m)\u001b[0m\u001b[0;34m/\u001b[0m\u001b[0mmax\u001b[0m\u001b[0;34m(\u001b[0m\u001b[0mtime_stamp\u001b[0m\u001b[0;34m)\u001b[0m\u001b[0;34m\u001b[0m\u001b[0;34m\u001b[0m\u001b[0m\n\u001b[0m\u001b[1;32m      6\u001b[0m \u001b[0;34m\u001b[0m\u001b[0m\n\u001b[1;32m      7\u001b[0m \u001b[0;34m\u001b[0m\u001b[0m\n",
      "\u001b[0;31mTypeError\u001b[0m: unsupported operand type(s) for /: 'datetime.datetime' and 'datetime.datetime'"
     ]
    }
   ],
   "source": [
    "close(9); fig = plt.figure(9)\n",
    "WVHT = np.array([float(i) for i in WVHT])\n",
    "fac=65; area=fac*WVHT/max(WVHT)\n",
    "#get hours offset to get colours\n",
    "colours = np.array(time_stamp)/max(time_stamp)\n",
    "\n",
    "\n",
    "plt.scatter(time_stamp, WVHT, s=area, c=colours, cmap='inferno', marker='o')\n",
    "plt.xlabel('time (mm-dd-h)')\n",
    "plt.ylabel('Wave height (m)')\n",
    "plt.show()\n"
   ]
  },
  {
   "cell_type": "markdown",
   "metadata": {},
   "source": [
    "## Problem 4\n",
    "The plots of wind speed and wave height from problem 3 suggest that there is a lag between the maximum wind speed and the maximum wave height, which is what we would expect. But there is quite a bit of fluctuation in the data that makes it difficult to determine the time lag quantitiatively. The goal of this problem is  to estimate the time lag by applying a filter to the data which consists of forming a moving average of a time bin size (filter width) that is just large enough to average out the fluctuations and small enough to determine the maxima of the average wind speed and wave height. \n",
    "\n",
    "While you could find helpful numpy or scipy methods that could do part or even all of this job, here you must only use techniques we have already learned in this class, i.e. you must code this _by hand_. Here are some steps to guide your solution:\n",
    "\n",
    "1. Create bins in the time hour array. The number of bins should be specified in a variable `nbins`. Check your bin boundaries.\n",
    "2. For each time bin  identify the wave height and wind speed values for the times in each bin. This can be done with a boolean index array. Make sure that the values associated with the first and last time value are included (depending on which side of each interval is open). In other words, make sure that both boundary time array values are included in the analysis. \n",
    "3. Calculate and store the value (wave height and wind speed) average for each bin.\n",
    "4. You will need to also create a new time hours array that represents the mid-interval time for each bin.\n",
    "5. Plot both the filtered wave height and wind speed as a function of the mid-interval times. Vary the number of bins and check the plots until you find the smallest `nbins` with only one peak. \n",
    "6. Adopt that bin size as your filter and calculate the time lag from the differene of the times at which the filtered wave height and wind speeds have their maximum."
   ]
  },
  {
   "cell_type": "code",
   "execution_count": null,
   "metadata": {},
   "outputs": [],
   "source": []
  },
  {
   "cell_type": "code",
   "execution_count": null,
   "metadata": {},
   "outputs": [],
   "source": [
    "print('Time lag between max in wind speed and mas in wave height: {:4.1f}hr'.format(t_lag))"
   ]
  },
  {
   "cell_type": "code",
   "execution_count": null,
   "metadata": {},
   "outputs": [],
   "source": []
  }
 ],
 "metadata": {
  "kernelspec": {
   "display_name": "Python 3",
   "language": "python",
   "name": "python3"
  },
  "language_info": {
   "codemirror_mode": {
    "name": "ipython",
    "version": 3
   },
   "file_extension": ".py",
   "mimetype": "text/x-python",
   "name": "python",
   "nbconvert_exporter": "python",
   "pygments_lexer": "ipython3",
   "version": "3.6.9"
  }
 },
 "nbformat": 4,
 "nbformat_minor": 5
}
