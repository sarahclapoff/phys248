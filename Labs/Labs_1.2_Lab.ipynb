{
 "cells": [
  {
   "cell_type": "markdown",
   "metadata": {},
   "source": [
    "\n",
    "## Lab 1.2\n",
    "\n",
    "This is the lab on Thursday Jan, 14.\n",
    "\n",
    "### Activity 1 \n",
    "Name: `qwerty-string-slicing`\n",
    "\n",
    "1. Create new variables `a` and `b` that store the strings 'qwertyu' and 'asdfghj'\n",
    "2. Create a new variable `c` that contains the string consisting of the first three characters of `a` and the last four characters of `b` using only slicing and string addition on the two previous variables.\n",
    "\n",
    "**Brightspace assignment Lab 1.1 Activity 1:**\n",
    "Create the 3-character string that consists of the 4th character in each of the three strings `a, b, c` in that order. (Remember that Python indexing starts with 0 for the first item.) Enter this string into the course spaces question.\n",
    "\n",
    "**Solution:**"
   ]
  },
  {
   "cell_type": "code",
   "execution_count": 1,
   "metadata": {},
   "outputs": [
    {
     "name": "stdout",
     "output_type": "stream",
     "text": [
      "The answer for Activity 1 is rff\n"
     ]
    }
   ],
   "source": [
    "a = 'qwertyu'\n",
    "b = 'asdfghj'\n",
    "c = a[:3] + b[-4:]\n",
    "q1 = a[3] + b[3] +c[3]\n",
    "print('The answer for Activity 1 is {:s}'.format(q1))"
   ]
  },
  {
   "cell_type": "markdown",
   "metadata": {},
   "source": [
    "Complete the following activities before the beginning of the next class by entering the answers into the corresponding Brightspace assignment."
   ]
  },
  {
   "cell_type": "markdown",
   "metadata": {},
   "source": [
    "## Activity 2.1\n",
    "\n",
    "Name: `string-slice-can`\n",
    "\n",
    "```python\n",
    "q=[['a','b','C'], ['a','e','f'], ['g',['n','G']]]\n",
    "```\n",
    "What is the python code involving the addition of slices of `q` that produces from this list `q` the string \"Can\"? Enter that code into the quiz (no spaces!).\n",
    "\n",
    "**Solution:**"
   ]
  },
  {
   "cell_type": "code",
   "execution_count": 20,
   "metadata": {},
   "outputs": [
    {
     "data": {
      "text/plain": [
       "'Can'"
      ]
     },
     "execution_count": 20,
     "metadata": {},
     "output_type": "execute_result"
    }
   ],
   "source": [
    "q=[['a','b','C'], ['a','e','f'], ['g',['n','G']]]\n",
    "q2 = q[0][2]+q[1][0]+q[2][1][0]\n",
    "q2"
   ]
  },
  {
   "cell_type": "markdown",
   "metadata": {},
   "source": [
    "## Activity 2.2\n",
    "Name: `geometric-series`\n",
    "\n",
    "1. Use a Markdown cell and write [geometric series](https://en.wikipedia.org/wiki/Geometric_series) using the sumation symbol using Latex as discussed in class.\n",
    "2. Calculate the product of the sum and the median of the first 10 terms of the geometric series ($k \\in [0,...9]$) with constant ratio $r=0.9$ and coefficent $a = 0.5$. Enter this answer into the quiz on Brighspace.\n",
    "3. As additional practice: Print your answer formatted in the following way: `Product = n.dddd` where `n.dddd` is the numerical answer with four decimal places. \n",
    "\n",
    "\n",
    "**Solution:**"
   ]
  },
  {
   "cell_type": "markdown",
   "metadata": {},
   "source": [
    "The geometric series: $$\\sum_{k=0}^{\\infty} ar^{k}$$\n",
    "Calculating the sum and median of the first 10 terms using the respective methods:"
   ]
  },
  {
   "cell_type": "code",
   "execution_count": 5,
   "metadata": {},
   "outputs": [
    {
     "name": "stdout",
     "output_type": "stream",
     "text": [
      "For the first 10 terms of the geometric series, the product of the sum and median is 1.0149\n"
     ]
    }
   ],
   "source": [
    "import numpy as np\n",
    "#calculating first 10 terms:\n",
    "#geo = []\n",
    "geo = np.arange(10)\n",
    "a = .5\n",
    "r = .9\n",
    "geo = a*r**geo\n",
    "#use the above line instead of a for loop, as a for loop isn't efficient for large numbers.\n",
    "#for i in range(10):\n",
    "#    geo.append(a*r**i)\n",
    "geo_sum = sum(geo)\n",
    "geo_med = np.median(geo)\n",
    "q3 = geo_sum*geo_med\n",
    "print('For the first 10 terms of the geometric series, the product of the sum and median is {:.4f}'.format(q3))"
   ]
  },
  {
   "cell_type": "code",
   "execution_count": null,
   "metadata": {},
   "outputs": [],
   "source": []
  }
 ],
 "metadata": {
  "kernelspec": {
   "display_name": "Python 3",
   "language": "python",
   "name": "python3"
  },
  "language_info": {
   "codemirror_mode": {
    "name": "ipython",
    "version": 3
   },
   "file_extension": ".py",
   "mimetype": "text/x-python",
   "name": "python",
   "nbconvert_exporter": "python",
   "pygments_lexer": "ipython3",
   "version": "3.6.9"
  }
 },
 "nbformat": 4,
 "nbformat_minor": 4
}
