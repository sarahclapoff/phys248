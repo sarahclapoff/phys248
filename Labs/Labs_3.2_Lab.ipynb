{
 "cells": [
  {
   "cell_type": "markdown",
   "metadata": {},
   "source": [
    "## Lab 3.2\n",
    "\n",
    "Before you start copy this notebook into your own `phys248/Labs` folder, add/commit/push it and then start entering the solution into the copy. When you are done commit the final verion. We will take Lab notebooks from your repo going forward, for spot checking. \n"
   ]
  },
  {
   "cell_type": "markdown",
   "metadata": {},
   "source": [
    "### Activity 1\n",
    "Name: `git-zip`\n",
    "\n",
    "**Complete this activity before the end of the lab by entering the answer into the Brightspace quiz**\n",
    "\n",
    "1. Clone the GitLab repository lab3.2 from the Abacus GitLab server into your home directory. If you have setup the ssh keys for your gitlab account correctly then you will not be asked for a password. If you are asked to enter a password then you need to get help from a TA immediately and get his fixed! \n",
    "2. In the cloned repository you will find a zipped file. Unzip it.\n",
    "3. Copy the file inside the zip that is extracted when you unzip (not the zip file!) into the `Labs` directory of your own `phys248` repo. Add/commit/push the file to your repository. We will automatically check after the Lab that you have committed the file and make sure that way that your repo is set up correctly. \n",
    "4. In the file is a word sequence. Copy paste the content of the file into the Lap3.2 Activity 1 quiz `git-zip`."
   ]
  },
  {
   "cell_type": "code",
   "execution_count": 3,
   "metadata": {},
   "outputs": [
    {
     "name": "stdout",
     "output_type": "stream",
     "text": [
      "Hello World!\n"
     ]
    }
   ],
   "source": [
    "cat text.txt"
   ]
  },
  {
   "cell_type": "markdown",
   "metadata": {},
   "source": [
    "### Activity 2\n",
    "\n",
    "* Question 1: `reason-line25-word3` \n",
    "* Question 2: `kant-moral`\n",
    "\n",
    "You should be in the `phys248/Labs` folder. Each part of this activity is to be done with a shell command. \n",
    "\n",
    "1. Download the _THE METAPHYSICAL ELEMENTS OF ETHICS_ by Immanuel Kant which can be found at this location, `http://www.textfiles.com/etext/AUTHORS/KANT/kant-metaphysical-145.txt` using the appropriate terminal command. \n",
    "2. Find all lines that contain the word `reason` and save them in the file `reason.txt` (this is again one terminal command line).\n",
    "3. Create the command that takes the file name `reason.txt` as argument and outputs just the 25th line of that file. Enter the $3^\\mathrm{rd}$ word of that line into the quiz question `reason-line25-word3`\n",
    "4. Using shell commands determine how many lines there are in the original text `kant-metaphysical-145.txt` that contain the word _moral_. Enter the answer into quiz question `kant-moral`.\n",
    "\n",
    "\n",
    "Don't forget to add, commit and push this notebook to your repository.\n",
    "\n",
    "\n"
   ]
  },
  {
   "cell_type": "code",
   "execution_count": 16,
   "metadata": {},
   "outputs": [
    {
     "name": "stdout",
     "output_type": "stream",
     "text": [
      "dispense with judgement of reason; but still it is a moral perfection,\n"
     ]
    }
   ],
   "source": [
    "#wants all lines containing \"reason\" not \" reason \"\n",
    "#q1: get 25th line  from reason.txt\n",
    "grep \"reason\" \"kant-metaphysical-145.txt\" > reason.txt\n",
    "head -25 reason.txt | tail -1\n",
    "#third word is judgement"
   ]
  },
  {
   "cell_type": "code",
   "execution_count": 14,
   "metadata": {},
   "outputs": [
    {
     "name": "stdout",
     "output_type": "stream",
     "text": [
      "107\n"
     ]
    }
   ],
   "source": [
    "#q2: number of lines in original text with \"moral\"\n",
    "grep \"moral\" \"kant-metaphysical-145.txt\" | wc -l\n",
    "#note: grep outputs newline, word, and byte counts\n",
    "#we just want wordcount so use -l"
   ]
  },
  {
   "cell_type": "code",
   "execution_count": null,
   "metadata": {},
   "outputs": [],
   "source": []
  }
 ],
 "metadata": {
  "kernelspec": {
   "display_name": "Bash",
   "language": "bash",
   "name": "bash"
  },
  "language_info": {
   "codemirror_mode": "shell",
   "file_extension": ".sh",
   "mimetype": "text/x-sh",
   "name": "bash"
  }
 },
 "nbformat": 4,
 "nbformat_minor": 4
}
