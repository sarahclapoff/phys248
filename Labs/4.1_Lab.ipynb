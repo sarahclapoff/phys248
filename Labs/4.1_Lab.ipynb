{
 "cells": [
  {
   "cell_type": "markdown",
   "metadata": {},
   "source": [
    "## Lab 4.1\n",
    "\n",
    "### Activity 1 \n"
   ]
  },
  {
   "cell_type": "markdown",
   "metadata": {},
   "source": [
    "#### Question 1\n",
    "Name: \n",
    "On the terminal:\n",
    "1. Create a directory `tmp` and change in to the directory.\n",
    "2. Using the `echo` command and the `>` redirect operator write a command that writes the number 143 into the file `file.dat`\n",
    "3. Use a Bash `for` loop to create 5 files `fileN.dat` where $N\\in[1,2,...,5]$ which each contain just the number N.\n",
    "4. Use `cat` and a regular expression to add the content of all files (starting wtih `file`) into file `out1.dat` and then write a second command that writes just the content of those with a number in the name to file `out2.dat'\n",
    "5. Now concatenate the two files `out1.dat` and `out2.dat` and redirect the output to file `out.dat`.\n",
    "6. Use the `du -sh` command to show the size in terms of a number with unit (`K` stands for kilo byte). Enter the size (without the unit) into the quiz `out.dat-size`.\n"
   ]
  },
  {
   "cell_type": "code",
   "execution_count": 2,
   "metadata": {},
   "outputs": [
    {
     "name": "stdout",
     "output_type": "stream",
     "text": [
      "mkdir: cannot create directory 'tmp': File exists\n"
     ]
    }
   ],
   "source": [
    "cd ~/phys248/Labs\n",
    "mkdir tmp\n",
    "cd tmp\n",
    "echo 143 > file.dat"
   ]
  },
  {
   "cell_type": "code",
   "execution_count": 8,
   "metadata": {},
   "outputs": [],
   "source": [
    "#why do i have to define the list first?\n",
    "N=\"1 2 3 4 5\"\n",
    "for i in $N\n",
    "do\n",
    "echo $i > file$i.dat\n",
    "done"
   ]
  },
  {
   "cell_type": "code",
   "execution_count": 49,
   "metadata": {},
   "outputs": [],
   "source": [
    "#normal regex doesn't work well with cat??\n",
    "cat file* > out1.dat\n",
    "cat file[0-9]* > out2.dat"
   ]
  },
  {
   "cell_type": "code",
   "execution_count": 10,
   "metadata": {},
   "outputs": [],
   "source": [
    "cat out1.dat out2.dat >> out.dat"
   ]
  },
  {
   "cell_type": "code",
   "execution_count": 11,
   "metadata": {},
   "outputs": [
    {
     "name": "stdout",
     "output_type": "stream",
     "text": [
      "4.0K\tout.dat\n"
     ]
    }
   ],
   "source": [
    "du -sh out.dat"
   ]
  },
  {
   "cell_type": "markdown",
   "metadata": {},
   "source": [
    "\n",
    "## Activity 2\n"
   ]
  },
  {
   "cell_type": "markdown",
   "metadata": {},
   "source": [
    "#### Question 1\n",
    "Name: `ls-upup`\n",
    "\n",
    "On the terminal:\n",
    "* Create a directory called `abc` and change into that directory. \n",
    "* Then make a directory called `def` and change into that. \n",
    "* Then make directory `ghi` and change into that. \n",
    "\n",
    "When entering the command `ls ../..` what is the output? Enter it into quiz `ls-upup`. After this exercise remove the directory abc and all of its content to keep your repository clean.with a number in the name "
   ]
  },
  {
   "cell_type": "code",
   "execution_count": 12,
   "metadata": {},
   "outputs": [
    {
     "name": "stdout",
     "output_type": "stream",
     "text": [
      "def\n"
     ]
    }
   ],
   "source": [
    "mkdir abc\n",
    "cd abc\n",
    "mkdir def\n",
    "cd def\n",
    "mkdir ghi\n",
    "cd ghi\n",
    "ls ../..\n"
   ]
  },
  {
   "cell_type": "markdown",
   "metadata": {},
   "source": [
    "#### Question 2\n",
    "Name: `dickens-counting`\n",
    "\n",
    "1. Download _A Tale of Two Cities, by Charles Dickens_ available at this url: https://www.gutenberg.org/files/98/98-0.txt using a shell command on the terminal. \n",
    "2. Write a shell command that returns the number of lines (and just that and nothing else) that contain the word _imaginary_.\n",
    "3. How many lines are in the text that contain the words _when_ and _any_?\n",
    "4. Replace all occurrences of _yellow_ with _green_ and save into file with name `Dickens-modified.txt`. Write a command line that outputs how many characters (and just that!) there are in all lines combined that contain the word _green_ in the file `Dickens-modified.txt`\n",
    "5. Repeat the commands from 2, 3 and 4 that produce numeric output, but save those numbers into variables a, b, c and then use bash arithmetic to calculate the sum. Enter this number into quiz `dickens-counting`.\n"
   ]
  },
  {
   "cell_type": "code",
   "execution_count": 20,
   "metadata": {},
   "outputs": [
    {
     "name": "stdout",
     "output_type": "stream",
     "text": [
      "--2021-02-04 08:10:22--  https://www.gutenberg.org/files/98/98-0.txt\n",
      "Resolving www.gutenberg.org (www.gutenberg.org)... 152.19.134.47, 2610:28:3090:3000:0:bad:cafe:47\n",
      "Connecting to www.gutenberg.org (www.gutenberg.org)|152.19.134.47|:443... connected.\n",
      "HTTP request sent, awaiting response... 200 OK\n",
      "Length: 807615 (789K) [text/plain]\n",
      "Saving to: '98-0.txt'\n",
      "\n",
      "98-0.txt            100%[===================>] 788.69K   872KB/s    in 0.9s    \n",
      "\n",
      "2021-02-04 08:10:23 (872 KB/s) - '98-0.txt' saved [807615/807615]\n",
      "\n"
     ]
    }
   ],
   "source": [
    "#1.\n",
    "wget https://www.gutenberg.org/files/98/98-0.txt"
   ]
  },
  {
   "cell_type": "code",
   "execution_count": 54,
   "metadata": {},
   "outputs": [
    {
     "name": "stdout",
     "output_type": "stream",
     "text": [
      "5\n"
     ]
    }
   ],
   "source": [
    "#2\n",
    "grep \"imaginary\" 98-0.txt | wc -l"
   ]
  },
  {
   "cell_type": "code",
   "execution_count": 37,
   "metadata": {},
   "outputs": [
    {
     "name": "stdout",
     "output_type": "stream",
     "text": [
      "16\n"
     ]
    }
   ],
   "source": [
    "#3\n",
    "grep \"when\" 98-0.txt | grep \"any\" | wc -l"
   ]
  },
  {
   "cell_type": "code",
   "execution_count": 53,
   "metadata": {},
   "outputs": [
    {
     "name": "stdout",
     "output_type": "stream",
     "text": [
      "637\n"
     ]
    }
   ],
   "source": [
    "#4\n",
    "#syntax is s/regex/replacement/g (s/ for substitution and g to replace all occurances) so maybe that will work with cat too? - nope.\n",
    "sed 's/yellow/green/g' 98-0.txt > Dickens-modified.txt\n",
    "grep \"green\" Dickens-modified.txt | wc -m"
   ]
  },
  {
   "cell_type": "code",
   "execution_count": 63,
   "metadata": {},
   "outputs": [
    {
     "name": "stdout",
     "output_type": "stream",
     "text": [
      "658\n"
     ]
    }
   ],
   "source": [
    "#5\n",
    "a=`grep \"imaginary\" 98-0.txt | wc -l`\n",
    "b=`grep \"when\" 98-0.txt | grep \"any\" | wc -l`\n",
    "c=`grep \"green\" Dickens-modified.txt | wc -m`\n",
    "\n",
    "let sum=a+b+c\n",
    "echo $sum"
   ]
  }
 ],
 "metadata": {
  "kernelspec": {
   "display_name": "Bash",
   "language": "bash",
   "name": "bash"
  },
  "language_info": {
   "codemirror_mode": "shell",
   "file_extension": ".sh",
   "mimetype": "text/x-sh",
   "name": "bash"
  }
 },
 "nbformat": 4,
 "nbformat_minor": 4
}
