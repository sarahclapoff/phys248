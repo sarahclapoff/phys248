{
 "cells": [
  {
   "cell_type": "markdown",
   "metadata": {},
   "source": [
    "## Lab 9.2\n",
    "\n",
    "Before you start copy this notebook into your own `mp248/Labs` folder and then start entering the solution into the copy. That way you can add it there to the next commit of your mp248 repo. "
   ]
  },
  {
   "cell_type": "markdown",
   "metadata": {},
   "source": [
    "### Activity 1\n",
    "Name: `slope-regression`\n",
    "\n",
    "Complete this activity before the end of the lab by entering the answer into the Coursespaces assignment. Add, commit and push this notebook to your repository.\n",
    "\n",
    "\n",
    "Read in the Python pickle file `Data/data_lab9.2_A1.pickle`. It contains six arrays which represent three pairs of `(x,y)` data. \n",
    "\n",
    "1. Find out which of the three data sets has the strongest correlation.\n",
    "2. For that data set with the strongest correlation make a linear regression and determine the fit parameters slope and intercept. Make a plot of the data along with the regression linear relation.\n",
    "3. Enter the slope into quiz question `slope-regression`."
   ]
  },
  {
   "cell_type": "code",
   "execution_count": 2,
   "metadata": {},
   "outputs": [],
   "source": [
    "import numpy as np\n",
    "import matplotlib.pyplot as plt\n",
    "import pickle\n",
    "from scipy import stats"
   ]
  },
  {
   "cell_type": "code",
   "execution_count": 3,
   "metadata": {},
   "outputs": [],
   "source": [
    "with open(\"../Data/data_lab9.2_A1.pickle\", 'rb') as p:\n",
    "    data = pickle.load(p)"
   ]
  },
  {
   "cell_type": "code",
   "execution_count": 4,
   "metadata": {},
   "outputs": [
    {
     "ename": "NameError",
     "evalue": "name 'how_good' is not defined",
     "output_type": "error",
     "traceback": [
      "\u001b[0;31m---------------------------------------------------------------------------\u001b[0m",
      "\u001b[0;31mNameError\u001b[0m                                 Traceback (most recent call last)",
      "\u001b[0;32m<ipython-input-4-8c1fed3e0730>\u001b[0m in \u001b[0;36m<module>\u001b[0;34m\u001b[0m\n\u001b[1;32m      1\u001b[0m \u001b[0;31m#stats.pearsonr?\u001b[0m\u001b[0;34m\u001b[0m\u001b[0;34m\u001b[0m\u001b[0;34m\u001b[0m\u001b[0m\n\u001b[0;32m----> 2\u001b[0;31m \u001b[0mhow_good\u001b[0m\u001b[0;34m\u001b[0m\u001b[0;34m\u001b[0m\u001b[0m\n\u001b[0m",
      "\u001b[0;31mNameError\u001b[0m: name 'how_good' is not defined"
     ]
    }
   ],
   "source": [
    "#stats.pearsonr?"
   ]
  },
  {
   "cell_type": "code",
   "execution_count": 42,
   "metadata": {},
   "outputs": [
    {
     "name": "stdout",
     "output_type": "stream",
     "text": [
      "(-0.4300482165258103, 0.009923234847317853) (0.34346970906669716, 0.043370781635313965) (0.2761683318716559, 0.10829467949706505)\n",
      "slope-regression: linear regression slope is -0.916229\n"
     ]
    },
    {
     "data": {
      "image/png": "[encoded data removed]",
      "text/plain": [
       "<Figure size 432x288 with 1 Axes>"
      ]
     },
     "metadata": {
      "needs_background": "light"
     },
     "output_type": "display_data"
    }
   ],
   "source": [
    "ax,ay,bx,by,cx,cy = data\n",
    "print(stats.pearsonr(ax,ay),\\\n",
    "      stats.pearsonr(bx,by),\\\n",
    "      stats.pearsonr(cx,cy))\n",
    "\n",
    "#ax,ay is most correlated\n",
    "#negative correlation doesn't mean they aren't correlated, \n",
    "#could just be a negative slope \n",
    "# -1 = perfectly(\"strongly\") correlated negative slope\n",
    "# 1 = perfectly correlated positive slope\n",
    "x,y = ax,ay\n",
    "slope, intercept, r_val, p_val, std_err = stats.linregress(x,y)\n",
    "\n",
    "#linear regression slope\n",
    "x_fits = np.linspace(min(x), max(y), 500)\n",
    "y_fits = slope*x_fits + intercept\n",
    "\n",
    "print(\"slope-regression: linear regression slope is %.6f\" %slope)\n",
    "\n",
    "plt.scatter(x,y, label='data')\n",
    "plt.plot(x_fits,y_fits, label='linear regression')\n",
    "plt.legend()\n",
    "plt.xlabel('x')\n",
    "plt.ylabel('f(x)')\n",
    "plt.show()\n",
    "\n"
   ]
  },
  {
   "cell_type": "markdown",
   "metadata": {},
   "source": [
    "### Activity 2\n",
    "Name: `sqrt-fit`\n",
    "\n",
    "Finish by Monday 9:30am. \n",
    "\n",
    "1. Read data sets `X` and `Y` from pickle file `Data/data_lab9.2_A2.pickle`. \n",
    "2. Fit the data with a model function $f(x) = a \\sqrt{x} +b$.\n",
    "3. Make a plot of the data and the model fit to check your fit.\n",
    "4. Enter $a+b$ into quiz `sqrt-fit`.\n"
   ]
  },
  {
   "cell_type": "code",
   "execution_count": 13,
   "metadata": {},
   "outputs": [],
   "source": [
    "from scipy.optimize import curve_fit"
   ]
  },
  {
   "cell_type": "code",
   "execution_count": 10,
   "metadata": {},
   "outputs": [],
   "source": [
    "pickle_in = open(\"../Data/data_lab9.2_A2.pickle\",\"rb\")\n",
    "X,Y = pickle.load(pickle_in)"
   ]
  },
  {
   "cell_type": "code",
   "execution_count": 17,
   "metadata": {},
   "outputs": [
    {
     "data": {
      "image/png": "[encoded data removed]",
      "text/plain": [
       "<Figure size 432x288 with 1 Axes>"
      ]
     },
     "metadata": {
      "needs_background": "light"
     },
     "output_type": "display_data"
    },
    {
     "name": "stdout",
     "output_type": "stream",
     "text": [
      "quiz answer:  3.5450041444862177\n"
     ]
    }
   ],
   "source": [
    "f = lambda x,a,b: a*np.sqrt(x) + b\n",
    "\n",
    "fitpars, covmat = curve_fit(f,X,Y,p0=[1,1])\n",
    "\n",
    "plt.plot(X,Y,'o',label='pickle data')   \n",
    "plt.plot(X,f(X,fitpars[0],fitpars[1]),'--',\\\n",
    "     label='fitted function') # fitted model function\n",
    "plt.legend(loc=0)\n",
    "plt.show()\n",
    "\n",
    "print(\"quiz answer: \", fitpars[0]+fitpars[1])"
   ]
  },
  {
   "cell_type": "code",
   "execution_count": null,
   "metadata": {},
   "outputs": [],
   "source": []
  }
 ],
 "metadata": {
  "kernelspec": {
   "display_name": "Python 3",
   "language": "python",
   "name": "python3"
  },
  "language_info": {
   "codemirror_mode": {
    "name": "ipython",
    "version": 3
   },
   "file_extension": ".py",
   "mimetype": "text/x-python",
   "name": "python",
   "nbconvert_exporter": "python",
   "pygments_lexer": "ipython3",
   "version": "3.7.4"
  }
 },
 "nbformat": 4,
 "nbformat_minor": 4
}
