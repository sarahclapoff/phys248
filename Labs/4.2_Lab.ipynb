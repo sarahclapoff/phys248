{
 "cells": [
  {
   "cell_type": "markdown",
   "metadata": {},
   "source": [
    "## Lab 4.2\n",
    "\n",
    "### Activity 1"
   ]
  },
  {
   "cell_type": "markdown",
   "metadata": {},
   "source": [
    "\n",
    "Name: `random-bytes`, `byte-per-character`\n",
    "\n",
    "1. Write a Python code cell that creates 1000 random numbers (find the lecture notebook where we covered this by using the Bash commands `cd ~/phys248/Lectures` and `grep random *`) and write them into a file called `random.dat`. Write one random number in each line, but number them and write each line in the following format: \n",
    "```\n",
    "__34_0.4504723\n",
    "```\n",
    "where `_` means a space. This can be done with a `for` loop using the `enumerate` function. \n",
    "2. Look into the `man` page of the `du` command and determine the command line option that will display the size of the file `random.dat` in bytes. Enter the number of bytes into the quiz question `random-bytes`.\n",
    "3. Based on the content of the file and the file size in bytes, how many bytes are used to store each character? Enter this number into quiz question `byte-per-character`. Explain your reasoning in a Markdown cell."
   ]
  },
  {
   "cell_type": "code",
   "execution_count": 2,
   "metadata": {},
   "outputs": [],
   "source": [
    "import numpy as np\n",
    "import matplotlib.pyplot as plt\n",
    "#plt.style.use(['science', 'notebook'])"
   ]
  },
  {
   "cell_type": "code",
   "execution_count": 3,
   "metadata": {},
   "outputs": [],
   "source": [
    "x = np.random.rand(1000)\n",
    "f = open('random.dat', mode='w')\n",
    "for i, xi in enumerate(x):\n",
    "    f.write(\"{:4d} {:.7f}\\n\".format(i, xi))\n",
    "f.close()"
   ]
  },
  {
   "cell_type": "code",
   "execution_count": 4,
   "metadata": {},
   "outputs": [
    {
     "name": "stdout",
     "output_type": "stream",
     "text": [
      "15000\trandom.dat\n"
     ]
    }
   ],
   "source": [
    "%%bash\n",
    "du -b random.dat"
   ]
  },
  {
   "cell_type": "code",
   "execution_count": 5,
   "metadata": {},
   "outputs": [
    {
     "name": "stdout",
     "output_type": "stream",
     "text": [
      "15000 random.dat\n"
     ]
    }
   ],
   "source": [
    "%%bash\n",
    "wc -m random.dat"
   ]
  },
  {
   "cell_type": "markdown",
   "metadata": {},
   "source": [
    "Bytes/char = 1, so each char is stored in one byte. This is the case for all ascii files."
   ]
  },
  {
   "cell_type": "markdown",
   "metadata": {},
   "source": [
    "### Answer part 3:\n"
   ]
  },
  {
   "cell_type": "markdown",
   "metadata": {},
   "source": [
    "### Activity 2\n"
   ]
  },
  {
   "cell_type": "markdown",
   "metadata": {},
   "source": [
    "Name: `random_mod_y_mean`\n",
    "\n",
    "1. Add the file `random.dat` to the `Labs` dir of your `phys248` repository, commit and push to remote.\n",
    "2. Use the bash command `sed` and the output redirection `>` to create a file `random_mod.dat` which has the same content as `random.dat` except that all occurrence of `.9` are replaced with `.2` and all occurrences of `.8` change to `.1`. _Note:_ the dot `.` is a metacharacter and needs to be escaped with `\\` (see lecture notebook 3.2) and for each replacement the old and new strings need to be in quotes. (Advanced topic: research the difference between single and double quotes). \n",
    "3. Read in the file `random_mod.dat` and save the columns into the float array variables `i` and `y`. Try to use the most compact way to do this, which should only take one line of code.\n",
    "4. Make a histogram of both x and y. Make sure that both are easily visible!\n",
    "5. Take the mean of `y` and enter it in the quiz question `random_mod_y_mean`"
   ]
  },
  {
   "cell_type": "markdown",
   "metadata": {},
   "source": [
    "#### Commands for part 1 and 2\n",
    "If you do these on the shell copy paste commands here:\n",
    "```Shell\n",
    "enter commands here ....\n",
    "```"
   ]
  },
  {
   "cell_type": "code",
   "execution_count": 4,
   "metadata": {},
   "outputs": [
    {
     "name": "stdout",
     "output_type": "stream",
     "text": [
      "/home/user/phys248/Labs\n"
     ]
    }
   ],
   "source": [
    "!pwd"
   ]
  },
  {
   "cell_type": "code",
   "execution_count": 6,
   "metadata": {},
   "outputs": [],
   "source": [
    "%%bash\n",
    "#cd lab4.2\n",
    "sed -e \"s/\\.9/\\.2/g;s/\\.8/\\.1/g\" random.dat > random_mod.dat"
   ]
  },
  {
   "cell_type": "code",
   "execution_count": 7,
   "metadata": {},
   "outputs": [],
   "source": [
    "i, y = np.loadtxt('random_mod.dat', dtype=float, unpack=True)"
   ]
  },
  {
   "cell_type": "code",
   "execution_count": 20,
   "metadata": {},
   "outputs": [
    {
     "data": {
      "image/png": "[encoded data removed]",
      "text/plain": [
       "<Figure size 432x288 with 1 Axes>"
      ]
     },
     "metadata": {
      "needs_background": "light"
     },
     "output_type": "display_data"
    },
    {
     "name": "stdout",
     "output_type": "stream",
     "text": [
      "Mean of y =  0.36825581509999994\n"
     ]
    }
   ],
   "source": [
    "bins = np.linspace(0,1, 21) \n",
    "#use linspace to get 21 edges (including 0 and 1)\n",
    "#also use linspace because it always has the same binwidth, \n",
    "# whereas 'bins=20' makes the binwidth depending on the range of values (so different for x and y)\n",
    "\n",
    "\n",
    "plt.hist(x, bins=bins, histtype='step', label='random.dat')\n",
    "plt.hist(y, bins=bins, histtype='step', label='random_mod.dat')\n",
    "plt.xlabel(\"Points\")\n",
    "plt.ylabel(\"Frequency (bin width = .05)\")\n",
    "plt.legend()\n",
    "plt.show()\n",
    "\n",
    "print(\"Mean of y = \", np.mean(y))\n"
   ]
  },
  {
   "cell_type": "code",
   "execution_count": null,
   "metadata": {},
   "outputs": [],
   "source": []
  }
 ],
 "metadata": {
  "kernelspec": {
   "display_name": "Python 3",
   "language": "python",
   "name": "python3"
  },
  "language_info": {
   "codemirror_mode": {
    "name": "ipython",
    "version": 3
   },
   "file_extension": ".py",
   "mimetype": "text/x-python",
   "name": "python",
   "nbconvert_exporter": "python",
   "pygments_lexer": "ipython3",
   "version": "3.6.9"
  }
 },
 "nbformat": 4,
 "nbformat_minor": 4
}
