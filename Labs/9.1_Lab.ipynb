{
 "cells": [
  {
   "cell_type": "markdown",
   "metadata": {},
   "source": [
    "## Lab 9.1\n",
    "\n",
    "Don't forget to push the notebook to your repo when you submit an answer to the quiz.\n"
   ]
  },
  {
   "cell_type": "markdown",
   "metadata": {},
   "source": [
    "### Activity 1\n",
    "Name: `circuit_resistors`\n",
    "\n",
    "Complete this activity before the end of the lab by entering the answer into the Brightspace quiz. \n",
    "\n",
    "Given the equations for the voltage difference at each junction point for the circuit of resistors discussed in class:\n",
    "* Simplify and sort the set of equations presented in class for the voltages.\n",
    "* Setup coefficient matrix $A$ and RHS vector $\\vec{c}$.\n",
    "* Use an appropriate numpy library to solve the same set of equations for $\\vec{V} = (V_1, V_2, V_3, V_4)$. What is the sum if the voltages at the four junction points $V_\\mathrm{sum} = \\sum_{i=1}^{4}V_i$? Enter the answer into quiz `circuit_resistors`."
   ]
  },
  {
   "cell_type": "code",
   "execution_count": 1,
   "metadata": {},
   "outputs": [],
   "source": [
    "import numpy as np\n",
    "import matplotlib.pyplot as plt"
   ]
  },
  {
   "cell_type": "code",
   "execution_count": 1,
   "metadata": {},
   "outputs": [
    {
     "ename": "NameError",
     "evalue": "name 'np' is not defined",
     "output_type": "error",
     "traceback": [
      "\u001b[0;31m---------------------------------------------------------------------------\u001b[0m",
      "\u001b[0;31mNameError\u001b[0m                                 Traceback (most recent call last)",
      "\u001b[0;32m<ipython-input-1-fb8192ca7abb>\u001b[0m in \u001b[0;36m<module>\u001b[0;34m\u001b[0m\n\u001b[1;32m      1\u001b[0m \u001b[0mv_rail\u001b[0m \u001b[0;34m=\u001b[0m \u001b[0;36m5\u001b[0m\u001b[0;34m\u001b[0m\u001b[0;34m\u001b[0m\u001b[0m\n\u001b[1;32m      2\u001b[0m \u001b[0;31m#v = [v1, v2, v3, v4]\u001b[0m\u001b[0;34m\u001b[0m\u001b[0;34m\u001b[0m\u001b[0;34m\u001b[0m\u001b[0m\n\u001b[0;32m----> 3\u001b[0;31m \u001b[0mv3\u001b[0m \u001b[0;34m=\u001b[0m \u001b[0mnp\u001b[0m\u001b[0;34m.\u001b[0m\u001b[0marray\u001b[0m\u001b[0;34m(\u001b[0m\u001b[0;34m[\u001b[0m\u001b[0;34m-\u001b[0m\u001b[0;36m1\u001b[0m\u001b[0;34m,\u001b[0m \u001b[0;36m0\u001b[0m\u001b[0;34m,\u001b[0m \u001b[0;36m3\u001b[0m\u001b[0;34m,\u001b[0m \u001b[0;34m-\u001b[0m\u001b[0;36m1\u001b[0m\u001b[0;34m]\u001b[0m\u001b[0;34m)\u001b[0m\u001b[0;34m\u001b[0m\u001b[0;34m\u001b[0m\u001b[0m\n\u001b[0m\u001b[1;32m      4\u001b[0m \u001b[0mv2\u001b[0m \u001b[0;34m=\u001b[0m \u001b[0mnp\u001b[0m\u001b[0;34m.\u001b[0m\u001b[0marray\u001b[0m\u001b[0;34m(\u001b[0m\u001b[0;34m[\u001b[0m\u001b[0;34m-\u001b[0m\u001b[0;36m1\u001b[0m\u001b[0;34m,\u001b[0m \u001b[0;36m3\u001b[0m\u001b[0;34m,\u001b[0m \u001b[0;36m0\u001b[0m\u001b[0;34m,\u001b[0m \u001b[0;34m-\u001b[0m\u001b[0;36m1\u001b[0m\u001b[0;34m]\u001b[0m\u001b[0;34m)\u001b[0m\u001b[0;34m\u001b[0m\u001b[0;34m\u001b[0m\u001b[0m\n\u001b[1;32m      5\u001b[0m \u001b[0mv1\u001b[0m \u001b[0;34m=\u001b[0m \u001b[0mnp\u001b[0m\u001b[0;34m.\u001b[0m\u001b[0marray\u001b[0m\u001b[0;34m(\u001b[0m\u001b[0;34m[\u001b[0m\u001b[0;36m4\u001b[0m\u001b[0;34m,\u001b[0m \u001b[0;34m-\u001b[0m\u001b[0;36m1\u001b[0m\u001b[0;34m,\u001b[0m \u001b[0;34m-\u001b[0m\u001b[0;36m1\u001b[0m\u001b[0;34m,\u001b[0m \u001b[0;34m-\u001b[0m\u001b[0;36m1\u001b[0m\u001b[0;34m]\u001b[0m\u001b[0;34m)\u001b[0m\u001b[0;34m\u001b[0m\u001b[0;34m\u001b[0m\u001b[0m\n",
      "\u001b[0;31mNameError\u001b[0m: name 'np' is not defined"
     ]
    }
   ],
   "source": [
    "v_rail = 5\n",
    "#v = [v1, v2, v3, v4]\n",
    "v3 = np.array([-1, 0, 3, -1])\n",
    "v2 = np.array([-1, 3, 0, -1])\n",
    "v1 = np.array([4, -1, -1, -1])\n",
    "v4 = np.array([-1, -1, -1, 4])\n",
    "\n",
    "A = np.matrix([v3,v2,v1,v4]) \n",
    "##note: can also define matrix as string of values:\n",
    "#A = np.matrix([\"-1,0,3,-1;-1,3,0,-1;4,-1,-1,-1;-1,-1,-1,4])\n",
    "b = np.array([5, 0, 0, 5])\n",
    "\n",
    "print(A,b)\n",
    "\n",
    "v=np.linalg.solve(A,b)\n",
    "quiz1 = sum(v)\n",
    "print(\"answer for quiz 1: circuit_resistors = %.6f\" %quiz1)"
   ]
  },
  {
   "cell_type": "markdown",
   "metadata": {},
   "source": [
    "### Activity 2\n",
    "Name: `sheared-cube`\n",
    "\n",
    "Finish by Monday 9:30am. \n",
    "\n"
   ]
  },
  {
   "cell_type": "markdown",
   "metadata": {},
   "source": [
    "1. Create a data set of points in 2D that constitute the outline of a square. Do this in the following way:\n",
    "    * Create one set of 10 points that lie on the x-axis (y=0) for 𝑥∈[0,1]\n",
    "    * Now use the rotation transformation to create the perpendicular point set that lies on the y-axis.\n",
    "    * Create the two missing point sets by just shifting each of the already existing points by 1 in the appropriate way.\n",
    "2. Make a plot of the square and give points belonging to each side a different color and symbol. Connect each set of points with different types of broken lines.\n",
    "3. Apply the horizintal shear transformation to your square with a shear parameter $m=5$. Plot the transformed point set.\n",
    "4. Determine the max x coordinate of any point of the sheared square and enter into `sheared-cube`."
   ]
  },
  {
   "cell_type": "code",
   "execution_count": 4,
   "metadata": {},
   "outputs": [],
   "source": [
    "x = [(x,0) for x in np.linspace(0,1,10)]\n",
    "y = []\n",
    "\n",
    "trans = np.matrix([[0,1], [1,0]]) #rotation transformation matrix\n",
    "for i in range(0, len(x)):\n",
    "    tvec = trans.dot(x[i]).A1\n",
    "    y.append((tvec[0], tvec[1]))\n",
    "    \n",
    "dx = [(x0[0], x0[1] +1) for x0 in x]\n",
    "dy = [(y0[0]+1, y0[1]) for y0 in y]\n"
   ]
  },
  {
   "cell_type": "code",
   "execution_count": 13,
   "metadata": {},
   "outputs": [
    {
     "data": {
      "image/png": "[encoded data removed]",
      "text/plain": [
       "<Figure size 432x288 with 1 Axes>"
      ]
     },
     "metadata": {
      "needs_background": "light"
     },
     "output_type": "display_data"
    }
   ],
   "source": [
    "plt.plot(x,y,'x', color='red')\n",
    "plt.plot(dx,dy, 'o', color='blue')\n",
    "plt.show()"
   ]
  },
  {
   "cell_type": "code",
   "execution_count": 16,
   "metadata": {},
   "outputs": [
    {
     "name": "stdout",
     "output_type": "stream",
     "text": [
      "(6.0, 6.0)\n"
     ]
    },
    {
     "data": {
      "image/png": "[encoded data removed]",
      "text/plain": [
       "<Figure size 432x288 with 1 Axes>"
      ]
     },
     "metadata": {
      "needs_background": "light"
     },
     "output_type": "display_data"
    }
   ],
   "source": [
    "m = 5\n",
    "xx=[]; yy=[]\n",
    "\n",
    "trans2  = np.matrix([[1,0],[m,1]]) #shear transformation matrix\n",
    "\n",
    "for j in range(len(x)):\n",
    "    tvec2 = trans2.dot(x[j]).A1\n",
    "    yy.append((tvec2[0], tvec2[1]))\n",
    "    \n",
    "yshift = [(y0[0]+m, y0[1]+1) for y0 in yy]\n",
    "\n",
    "trans3 = np.matrix([[1,m], [0,1]])\n",
    "\n",
    "for j in range(len(y)):\n",
    "    tvec2 = trans3.dot(y[j]).A1\n",
    "    xx.append((tvec2[0], tvec2[1]))\n",
    "\n",
    "xshift = [(x0[0]+1, x0[1]+m) for x0 in xx]\n",
    "\n",
    "plt.plot(xx,yy, 'o')\n",
    "plt.plot(xshift, yshift, 'x')\n",
    "\n",
    "print(max(xshift))"
   ]
  },
  {
   "cell_type": "code",
   "execution_count": null,
   "metadata": {},
   "outputs": [],
   "source": []
  }
 ],
 "metadata": {
  "kernelspec": {
   "display_name": "Python 3",
   "language": "python",
   "name": "python3"
  },
  "language_info": {
   "codemirror_mode": {
    "name": "ipython",
    "version": 3
   },
   "file_extension": ".py",
   "mimetype": "text/x-python",
   "name": "python",
   "nbconvert_exporter": "python",
   "pygments_lexer": "ipython3",
   "version": "3.6.9"
  }
 },
 "nbformat": 4,
 "nbformat_minor": 4
}
