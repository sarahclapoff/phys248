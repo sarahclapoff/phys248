{
 "cells": [
  {
   "cell_type": "markdown",
   "metadata": {},
   "source": [
    "## Lab 2.2\n"
   ]
  },
  {
   "cell_type": "markdown",
   "metadata": {},
   "source": [
    "### Activity 1"
   ]
  },
  {
   "cell_type": "markdown",
   "metadata": {},
   "source": [
    "Name: `parabola_interp`\n",
    "\n",
    "**Complete this activity before the end of the lab by entering the answer into the Brightspace quiz**\n",
    "\n",
    "In this activity you are asked to perform the interpolation described in the **Parabola example** in section **Array analysis with Boolen index mask** in today's class notebook. \n",
    "\n",
    "1. Review that section, and copy the code to plot the parabola, and to find the nearest $x$ values where $ y_\\mathrm{f} < -5.2$. This should give you two pairs of points `(x[ind1],y[ind1])` and `x[ind2],y[ind2])`. Revisit the diagram _parabola-interpolation_. \n",
    "2. Calculate $x_\\mathrm{f1}$  by interpolation using the interpolation formula solved for $x_\\mathrm{f1}$.\n",
    "3.  Calculate $x_\\mathrm{f2}$ in the same, taking care of the indexing! \n",
    "\n",
    "Check your answers by zooming into the plot!\n",
    "\n",
    "Take the product $x_\\mathrm{f1} x_\\mathrm{f2}$, and enter it into the Lab 2.2 Activity 1 quiz `parabola_interp` on Brigthspace. \n",
    "\n",
    "**Solution:**"
   ]
  },
  {
   "cell_type": "code",
   "execution_count": 2,
   "metadata": {},
   "outputs": [
    {
     "name": "stdout",
     "output_type": "stream",
     "text": [
      "Populating the interactive namespace from numpy and matplotlib\n"
     ]
    }
   ],
   "source": [
    "%pylab ipympl"
   ]
  },
  {
   "cell_type": "code",
   "execution_count": 2,
   "metadata": {},
   "outputs": [
    {
     "data": {
      "application/vnd.jupyter.widget-view+json": {
       "model_id": "e5aa46806c7c4375b2b1185bda758e91",
       "version_major": 2,
       "version_minor": 0
      },
      "text/plain": [
       "Canvas(toolbar=Toolbar(toolitems=[('Home', 'Reset original view', 'home', 'home'), ('Back', 'Back to previous …"
      ]
     },
     "metadata": {},
     "output_type": "display_data"
    },
    {
     "name": "stdout",
     "output_type": "stream",
     "text": [
      "3.0 -6.900000000000002 7.0 -8.100000000000009\n"
     ]
    },
    {
     "data": {
      "text/plain": [
       "20.407868325973507"
      ]
     },
     "execution_count": 2,
     "metadata": {},
     "output_type": "execute_result"
    }
   ],
   "source": [
    "#note: when using %pylab ipympl, the ifig stuff creates a *new* figure to display the plot.\n",
    "#otherwise, only one figure will be created and all plots will be displayed on that figure.\n",
    "ifig=1;close(ifig);figure(ifig)\n",
    "x = linspace(1,9,9)   \n",
    "y = x**2-10.3*x+15\n",
    "plot(x,y,'g--o')\n",
    "\n",
    "yfind = -5.2\n",
    "where(y<yfind)[0]\n",
    "ind1 = where(y<yfind)[0][0]\n",
    "ind2 = where(y<yfind)[0][-1]\n",
    "print(x[ind1], y[ind1], x[ind2], y[ind2])\n",
    "\n",
    "#xf1 by interpolation\n",
    "#(xf1 - xi1)/(yf - yi1) = (xi1-1 - xi1)/(yi1-1 - yi1)\n",
    "xf1 = (x[ind1 - 1] - x[ind1])/(y[ind1 - 1] - y[ind1])*(yfind - y[ind1])+x[ind1]\n",
    "#similarily for xf2, with ind2+1 instead \n",
    "xf2 = (x[ind2 + 1] - x[ind2])/(y[ind2 + 1] - y[ind2])*(yfind - y[ind2])+x[ind2]\n",
    "#print('xf1 = {:.2f}; xf2 = {.2f}'.format(xf1, xf2))\n",
    "xf1*xf2"
   ]
  },
  {
   "cell_type": "markdown",
   "metadata": {},
   "source": [
    "### Activity 2\n",
    "\n",
    "Complete this activity before 9:00am Thursday by entering the final answer into the corresponding Brighspaces quizes.\n",
    "\n",
    "#### 2.1"
   ]
  },
  {
   "cell_type": "markdown",
   "metadata": {},
   "source": [
    "Name: `ball_vertical_1p7`, `ball_verical_updown` and `ball_vertical_max`\n",
    "\n",
    "The one-dimensional equation of motion of a ball with an initial velocity $v_\\mathrm{0}$ in the positive direction (up) is given by\n",
    "$$\n",
    "y_\\mathrm{b} = -\\frac{1}{2}gt^2 + v_\\mathrm{0} t \n",
    "$$\n",
    "This equation gives the height of the ball for a given time, which represents the time passed since the ball has been thrown in the upward direction."
   ]
  },
  {
   "cell_type": "markdown",
   "metadata": {},
   "source": [
    "1. Write a code cell that evaluates the mathematical expression for $y_\\mathrm{b}$ for $t = 1.7\\mathrm{s}$ and prints out the result in a formatted print statement `yb = x.yy`. Enter the height into the quiz question `ball_vertical_1p7`.\n",
    "2. Evaluate the expression for 21 equally spaced times from $0$ to $3$ ($t \\in [0.,3.]$, unit of time is s). Save the t and $y_\\mathrm{b}$ values in the arrays `times` and `yb`. Avoid using a loop.\n",
    "3. Make a line plot of $y_\\mathrm{b}(t)$. By looking at your graph determine if the ball is on the way up or down at $t = 1.9\\mathrm{s}$ (part 1)? Enter the answer in quiz question `ball_verical_updown`.\n",
    "4. What is the maximum height the ball reaches? Enter the value in the quiz `ball_vertical_max`."
   ]
  },
  {
   "cell_type": "markdown",
   "metadata": {},
   "source": [
    "**Variables:**\n",
    "```Python\n",
    "g = 9.81    # m s^-2\n",
    "v0  = 13.4  # m s^-1\n",
    "```"
   ]
  },
  {
   "cell_type": "code",
   "execution_count": 3,
   "metadata": {},
   "outputs": [
    {
     "name": "stdout",
     "output_type": "stream",
     "text": [
      "1. Height of ball at 1.7 seconds is 8.60\n"
     ]
    }
   ],
   "source": [
    "#q1\n",
    "g = 9.81 #m/s^2\n",
    "v0 = 13.4 #m/s\n",
    "times = 1.7 #s\n",
    "yb = -1/2*g*times**2 + v0*times #m/s\n",
    "print('1. Height of ball at %.1f seconds is %.2f' %(times, yb))"
   ]
  },
  {
   "cell_type": "code",
   "execution_count": 4,
   "metadata": {},
   "outputs": [
    {
     "data": {
      "application/vnd.jupyter.widget-view+json": {
       "model_id": "91a62f7a46ae41469d4066a4ca430160",
       "version_major": 2,
       "version_minor": 0
      },
      "text/plain": [
       "Canvas(toolbar=Toolbar(toolitems=[('Home', 'Reset original view', 'home', 'home'), ('Back', 'Back to previous …"
      ]
     },
     "metadata": {},
     "output_type": "display_data"
    },
    {
     "name": "stdout",
     "output_type": "stream",
     "text": [
      "3. from figure 2, the ball is going down at 1.9s\n",
      "4. Max hight ball reaches is 9.1506\n"
     ]
    }
   ],
   "source": [
    "#q2\n",
    "times = linspace(0,3,21) #s\n",
    "yb = -1/2*g*times**2 + v0*times #m/s\n",
    "\n",
    "#q3\n",
    "ifig=2;close(ifig);figure(ifig)\n",
    "plot(times, yb)\n",
    "print('3. from figure 2, the ball is going down at 1.9s')\n",
    "\n",
    "#q4\n",
    "print('4. Max hight ball reaches is %.4f' %(max(yb)))"
   ]
  },
  {
   "cell_type": "markdown",
   "metadata": {},
   "source": [
    "#### 2.2\n",
    "Name: `3D-array`\n",
    "\n",
    "Reshape the array \n",
    "```Python\n",
    "array(500*cos(arange(64)), dtype='int')\n",
    "```\n",
    "into a 4x4x4 tensor. Print the tensor and determine what the indices `[n,k,j]` are to access the elements `T[n,k,j]=59` and `339` by using the `where` function. Take the sum of `n,k,j` for both cases (adding in total 6 numbers). \n",
    "\n",
    "Enter the resulting integer number into quiz Lab 2.1 Activity Question 4 `3D-array`."
   ]
  },
  {
   "cell_type": "code",
   "execution_count": 3,
   "metadata": {},
   "outputs": [
    {
     "name": "stdout",
     "output_type": "stream",
     "text": [
      "position of 59: t[322] \n",
      "position of 336: t[332]\n"
     ]
    },
    {
     "data": {
      "text/plain": [
       "array([[[ 500,  270, -208, -494],\n",
       "        [-326,  141,  480,  376],\n",
       "        [ -72, -455, -419,    2],\n",
       "        [ 421,  453,   68, -379]],\n",
       "\n",
       "       [[-478, -137,  330,  494],\n",
       "        [ 204, -273, -499, -266],\n",
       "        [ 212,  495,  323, -146],\n",
       "        [-481, -374,   77,  457]],\n",
       "\n",
       "       [[ 417,   -6, -424, -451],\n",
       "        [ -63,  382,  477,  133],\n",
       "        [-333, -493, -199,  277],\n",
       "        [ 499,  262, -216, -496]],\n",
       "\n",
       "       [[-320,  150,  482,  371],\n",
       "        [ -81, -459, -414,   11],\n",
       "        [ 426,  449,   59, -385],\n",
       "        [-476, -129,  336,  492]]])"
      ]
     },
     "execution_count": 3,
     "metadata": {},
     "output_type": "execute_result"
    }
   ],
   "source": [
    "#correction! 336, not 339.\n",
    "t = array(500*cos(arange(64)), dtype='int')\n",
    "\n",
    "t = t.reshape((4,4,4))\n",
    "ind = []\n",
    "a,b,c = where(t == 59)\n",
    "d,e,f = where(t == 336)\n",
    "\n",
    "print('position of 59: t[%d%d%d] \\nposition of 336: t[%d%d%d]'%(a,b,c,d,e,f))\n",
    "sum([a,b,c,d,e,f])"
   ]
  },
  {
   "cell_type": "code",
   "execution_count": null,
   "metadata": {},
   "outputs": [],
   "source": []
  }
 ],
 "metadata": {
  "kernelspec": {
   "display_name": "Python 3",
   "language": "python",
   "name": "python3"
  },
  "language_info": {
   "codemirror_mode": {
    "name": "ipython",
    "version": 3
   },
   "file_extension": ".py",
   "mimetype": "text/x-python",
   "name": "python",
   "nbconvert_exporter": "python",
   "pygments_lexer": "ipython3",
   "version": "3.6.9"
  }
 },
 "nbformat": 4,
 "nbformat_minor": 4
}
