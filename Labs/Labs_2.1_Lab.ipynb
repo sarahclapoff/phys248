{
 "cells": [
  {
   "cell_type": "markdown",
   "metadata": {},
   "source": [
    "## Lab 2.1"
   ]
  },
  {
   "cell_type": "markdown",
   "metadata": {},
   "source": [
    "### Activity 1\n",
    "Complete this activity before the end of this Lab by entering the final answer into the corresponding Brightspace quiz.\n",
    "\n",
    "\n",
    "#### Question 1"
   ]
  },
  {
   "cell_type": "markdown",
   "metadata": {},
   "source": [
    "Name: `list-for-loop`\n",
    "\n",
    "1. Set a variable `primes` to a list containing the numbers 2, 3, 5, 7, 11, and 13. Print each list element in a `for` loop. Initialize the variable `s` to `0` before the start of the loop. Then add to the loop body a statement that adds the value of each list element to `s` so that at the end `s` is the sum of the list elements. \n",
    "2. Assign 17 to a variable `p` and add `p` to the end of the list `primes`. Print out the entire new list and add again all numbers, this time into the variable `q` that you initialize again before the loop to `q=0`.\n",
    "3. Change the type of both `s` and `q` into string. Create a new string that contains the second character of `s` and `q`. Enter this new two-character string into the quiz question.\n",
    "\n",
    "**Solution:**"
   ]
  },
  {
   "cell_type": "code",
   "execution_count": 4,
   "metadata": {},
   "outputs": [
    {
     "name": "stdout",
     "output_type": "stream",
     "text": [
      "2\n",
      "3\n",
      "5\n",
      "7\n",
      "11\n",
      "13\n",
      "2\n",
      "3\n",
      "5\n",
      "7\n",
      "11\n",
      "13\n",
      "17\n"
     ]
    },
    {
     "data": {
      "text/plain": [
       "'18'"
      ]
     },
     "execution_count": 4,
     "metadata": {},
     "output_type": "execute_result"
    }
   ],
   "source": [
    "s = 0\n",
    "primes = [2,3,5,7,11,13]\n",
    "for l in primes:\n",
    "    print(l)\n",
    "    s += l\n",
    "p = 17\n",
    "primes.append(p)\n",
    "q = 0\n",
    "for l in primes:\n",
    "    print(l)\n",
    "    q += l\n",
    "q1 = str(s)[1] + str(q)[1]\n",
    "q1"
   ]
  },
  {
   "cell_type": "markdown",
   "metadata": {},
   "source": [
    "### Activity 2\n",
    "\n",
    "Complete this activity before the beginning of the Thursday class by entering the final answer into the corresponding Brighspace quiz.\n",
    "\n",
    "#### Question 1\n"
   ]
  },
  {
   "cell_type": "markdown",
   "metadata": {},
   "source": [
    "Name: `formatted-output`\n",
    "\n",
    "Create variables `a,b,c` with strings containing the number `number` in the following formats\n",
    "- `a`: decimal notation with 2 decimals\n",
    "- `b`: compact scientific notation, e in the exponent, field of 8 with 3 decimals\n",
    "- `c`: using the `%g` format descriptor (how is that different from the previous) \n",
    "\n",
    "```python\n",
    "number = 536918852.5879\n",
    "```\n",
    "\n",
    "Create the 3-character string that consists of the 6th character in each of the three strings `a, b, c` in that order. Enter this string into the course spaces question.\n",
    "\n",
    "**Solution:**"
   ]
  },
  {
   "cell_type": "code",
   "execution_count": 4,
   "metadata": {},
   "outputs": [
    {
     "name": "stdout",
     "output_type": "stream",
     "text": [
      "536918852.59 5.369e+08 5.36919e+08\n",
      "question 1 answer: 8e1\n"
     ]
    }
   ],
   "source": [
    "number = 536918852.5879\n",
    "a = \"{:.2f}\".format(number)\n",
    "b = '{:.3e}'.format(number)\n",
    "c = '%g'%number\n",
    "print(a,b,c)\n",
    "print('question 1 answer: '+a[5]+b[5]+c[5])"
   ]
  },
  {
   "cell_type": "markdown",
   "metadata": {},
   "source": [
    "#### Question 2"
   ]
  },
  {
   "cell_type": "markdown",
   "metadata": {},
   "source": [
    "Name: `for-loops-2`\n",
    "\n",
    "1. Using a loop print out every even number between 0 and 20.\n",
    "2. Create an empty list called `even_numbers`. Using a `for` loop with a conditional statement in the code block append each even number between 0 and 20 to the list. \n",
    "3. You are given a list of fruit `list_of_fruit = ['apple', 'banana', 'orange', 'tomato']` and an index list `ind = [0,2,3,3]`. Create an empty string `name` and then, using `zip` add for each pair-wise entries of `list_of_fruit` and `ind` the character of the fruit indicated by the index in `ind`. Enter the resulting `name` string into the quiz.\n",
    "\n",
    "\n",
    "**Solution:**"
   ]
  },
  {
   "cell_type": "code",
   "execution_count": 6,
   "metadata": {},
   "outputs": [
    {
     "name": "stdout",
     "output_type": "stream",
     "text": [
      "q2 = anna\n"
     ]
    }
   ],
   "source": [
    "import numpy as np\n",
    "\n",
    "even_numbers = []\n",
    "list_of_fruit = ['apple', 'banana', 'orange', 'tomato']\n",
    "ind = [0,2,3,3]\n",
    "\n",
    "for i in range(21):\n",
    "    if(i%2 == 0):\n",
    "        #print(i)\n",
    "        even_numbers.append(i)\n",
    "\n",
    "name = ''\n",
    "namet = ''\n",
    "#note: zip produces a list of tuples, where each tuple \n",
    "#is the corresponding elements of the two lists.\n",
    "for l, m in zip(list_of_fruit, ind):\n",
    "    #print(l,m)\n",
    "    name+=l[m]\n",
    "\n",
    "#name\n",
    "print(\"q2 = \" +name)\n",
    "#previous solution had that print statement and just 'name', \n",
    "#not as a print statement."
   ]
  },
  {
   "cell_type": "markdown",
   "metadata": {},
   "source": [
    "#### Question 3"
   ]
  },
  {
   "cell_type": "markdown",
   "metadata": {},
   "source": [
    "Name: `sawtooth`\n",
    "\n",
    "Make an asymptotic sawtooth plot in the following way:\n",
    "1. Create an equidistant `time` array that has exactly 100 values, starts with `0.1`, and has the last element `10.0`.\n",
    "2. From the array `time` create an array called `time10` that contains only the first 10 elements (use _slicing_). \n",
    "3. Create the array `sawtooth`: use the `resize` function to repeat `time10` 10 times.\n",
    "4. At this point plot `sawtooth` against `time` and check if it looks as expected. \n",
    "5. Create another array `sawtooth_asump` which is equal to `sawtooth/time`. Make a second plot where you plot `sawtooth_asump` against `time`. Check again that the plot looks as expected. \n",
    "6. Calculate the `mean` of `sawtooth_asump` and enter it into the quiz. \n"
   ]
  },
  {
   "cell_type": "code",
   "execution_count": 49,
   "metadata": {},
   "outputs": [
    {
     "name": "stdout",
     "output_type": "stream",
     "text": [
      "Populating the interactive namespace from numpy and matplotlib\n"
     ]
    },
    {
     "data": {
      "image/png": "[encoded data removed]",
      "text/plain": [
       "<Figure size 432x288 with 1 Axes>"
      ]
     },
     "metadata": {
      "needs_background": "light"
     },
     "output_type": "display_data"
    },
    {
     "data": {
      "image/png": "[encoded data removed]",
      "text/plain": [
       "<Figure size 432x288 with 1 Axes>"
      ]
     },
     "metadata": {
      "needs_background": "light"
     },
     "output_type": "display_data"
    },
    {
     "name": "stdout",
     "output_type": "stream",
     "text": [
      "Mean of sawtooth_asump:  0.21738028129253872\n"
     ]
    }
   ],
   "source": [
    "%pylab inline\n",
    "\n",
    "time = np.linspace(.1, 10.0, 100)\n",
    "time10 = time[:10]\n",
    "sawtooth = np.resize(time10, 100)\n",
    "\n",
    "plt.plot(time, sawtooth)\n",
    "plt.title(\"Sawtooth vs Time\")\n",
    "plt.show()\n",
    "\n",
    "sawtooth_asump = sawtooth/time\n",
    "plt.plot(time, sawtooth_asump)\n",
    "plt.title(\"Sawtooth_asump vs Time\")\n",
    "plt.show()\n",
    "\n",
    "print(\"Mean of sawtooth_asump: \", np.mean(sawtooth_asump))"
   ]
  },
  {
   "cell_type": "markdown",
   "metadata": {},
   "source": [
    "### Additional review for practice\n",
    "\n",
    "1. Define a variable `fname` that holds your first name and a variable `lname` that contains your last name.\n",
    "2. From these two variables create a new variable called `full_name` that contains your first and last name separated by a space.\n",
    "3. Print a substring of `full_name` that contains only the second to fourth character.\n",
    "4. Using the variable `full_name` print your name 4 times in a row, separated by `,_`.\n",
    "5. Define two scalar variables with numbers between 0.1 and 10. and print their product and ratio.\n",
    "5. Define two complex variables with real and imaginary parts between 0.1 and 10. and print their sum."
   ]
  },
  {
   "cell_type": "code",
   "execution_count": null,
   "metadata": {},
   "outputs": [],
   "source": []
  },
  {
   "cell_type": "markdown",
   "metadata": {},
   "source": [
    "Explain with a short statement why the output of\n",
    "```Python\n",
    "True == 1 and \"Output\"\n",
    "```\n",
    "is `Output`."
   ]
  },
  {
   "cell_type": "code",
   "execution_count": null,
   "metadata": {},
   "outputs": [],
   "source": []
  }
 ],
 "metadata": {
  "kernelspec": {
   "display_name": "Python 3",
   "language": "python",
   "name": "python3"
  },
  "language_info": {
   "codemirror_mode": {
    "name": "ipython",
    "version": 3
   },
   "file_extension": ".py",
   "mimetype": "text/x-python",
   "name": "python",
   "nbconvert_exporter": "python",
   "pygments_lexer": "ipython3",
   "version": "3.6.9"
  }
 },
 "nbformat": 4,
 "nbformat_minor": 4
}
