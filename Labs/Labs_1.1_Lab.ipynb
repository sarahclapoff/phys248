{
 "cells": [
  {
   "cell_type": "markdown",
   "metadata": {},
   "source": [
    "## Lab 1.1\n",
    "\n",
    "### Activity 1 \n",
    "Name: `sphere-cube-volumes`\n",
    "\n",
    "**Complete this activity before the end of the lab by entering the answer into the Brightspace assignment**\n",
    "\n",
    "Program in a notebook code cell the formula for the volume $V_\\mathrm{sph}$ (variable name `vsp`) of a sphere with radius $r$ and the volume $V_\\mathrm{cube}$ (variable name `vcb`) of a cube with side length $a$, $b$, $c$. Calculate each volume separately. Then calculate the product (variable name `p`) of the sphere and cube volumes and the sum (variable `s`) of the two. Print each intermediate answer with a print statement. \n",
    "\n",
    "\n",
    "**Brightspace Quiz Lab 1.1 Activity 1:**\n",
    "Print the ratio of product to sum. Enter the answer into the Brightspace question. \n",
    "\n",
    "**Variables:**\n",
    "```\n",
    "r = 1.4\n",
    "a = 4\n",
    "b = 7\n",
    "c = 0.2\n",
    "```"
   ]
  },
  {
   "cell_type": "code",
   "execution_count": 33,
   "metadata": {},
   "outputs": [
    {
     "name": "stdout",
     "output_type": "stream",
     "text": [
      "product:  64.36662580282957 \n",
      " sum:  17.094040321933853 \n",
      " ratio:  3.76544249285752\n",
      "5.6000000000000005\n"
     ]
    }
   ],
   "source": [
    "# enter code here\n",
    "import numpy as np\n",
    "\n",
    "r = 1.4\n",
    "a = 4\n",
    "b = 7\n",
    "c = .2\n",
    "\n",
    "vsp = 4/3 * np.pi*r**3\n",
    "vcb = a*b*c\n",
    "\n",
    "p = vsp*vcb\n",
    "s = vsp+vcb\n",
    "print(\"product: \", p, \"\\n sum: \", s, \"\\n ratio: \", p/s)\n",
    "print(vcb) \n",
    "#Note: the reason for the representation error is because .2 is a repeating number in binary.\n",
    "#so it can't be stored precisely in the 32-bit representation.\n",
    "#This leads to truncation errors when doing arithmetic. \n",
    "#Dividing by 5 doesn't produce these errors b/c 5 can easily be stored precisely."
   ]
  },
  {
   "cell_type": "markdown",
   "metadata": {},
   "source": [
    "---\n",
    "**Complete the following activities before the beginning of the next class by entering the answer into the corresponding Brightspace assignment.**\n",
    "\n",
    "## Activity 2.1\n",
    "Name: `geometric-series-3elem`\n",
    "\n",
    "The [geometric series](https://en.wikipedia.org/wiki/Geometric_series)  is a series with a constant ratio between successive terms.  For `a=2` and `r=0.5` calculate the sum of the elements for $k\\in[0, 1, 2, 3]$ using the variables `a` and `r`.\n",
    "\n",
    "**Solution:**"
   ]
  },
  {
   "cell_type": "code",
   "execution_count": 64,
   "metadata": {},
   "outputs": [
    {
     "name": "stdout",
     "output_type": "stream",
     "text": [
      "3.75\n"
     ]
    }
   ],
   "source": [
    "#use closed form of sum for first 4 terms (since r != 1):\n",
    "a = 2; r = .5; print(a*(1-r**4)/(1-r))"
   ]
  },
  {
   "cell_type": "markdown",
   "metadata": {},
   "source": [
    "## Activity 2.2\n",
    "Name: `academic-integrity`\n",
    "\n",
    "You cannot continue this class if you have not completed this activity. \n",
    "\n",
    "Review the [University Policies](https://bright.uvic.ca/d2l/le/content/57050/viewContent/855995/View) module, specifically the section _Academic Integrety_. Join the Integrity Matters course here: https://bright.uvic.ca/d2l/le/discovery/view/course/83891 and review the course material. \n",
    "\n",
    "\n",
    "**Brightspace assignment Lab 1.1 Activity 2:**\n",
    "\n",
    "Complete the quiz. \n"
   ]
  },
  {
   "cell_type": "code",
   "execution_count": null,
   "metadata": {},
   "outputs": [],
   "source": []
  }
 ],
 "metadata": {
  "kernelspec": {
   "display_name": "Python 3",
   "language": "python",
   "name": "python3"
  },
  "language_info": {
   "codemirror_mode": {
    "name": "ipython",
    "version": 3
   },
   "file_extension": ".py",
   "mimetype": "text/x-python",
   "name": "python",
   "nbconvert_exporter": "python",
   "pygments_lexer": "ipython3",
   "version": "3.6.9"
  }
 },
 "nbformat": 4,
 "nbformat_minor": 4
}
