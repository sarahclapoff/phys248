{
 "cells": [
  {
   "cell_type": "markdown",
   "metadata": {},
   "source": [
    "## Lab 3.1\n",
    "\n",
    "**A note before we start:** Today's activities are short. A good fraction of the material covered today is for information and conceptual, and can't be easily packaged in a lab  quiz. I ask that you spend some time to carefully review today's class notebook and follow-up on some of the provided links for additional reading. Ask TAs or myself if something remains unclear. It is key that you get basic proficiency in git as we will use it going forward in releasing course notes and you will use git along with your own repository to hand in assignments, labs and exams. We will practice this on Thursday in the lab."
   ]
  },
  {
   "cell_type": "markdown",
   "metadata": {},
   "source": [
    "## Activity 0\n",
    "This activity has no quiz. In this activitiy you will follow along step by step to \n",
    "\n",
    "1. Configure your git environment, including setting up ssh keys to interact with GitLab server\n",
    "2. Clone the updated course repository\n",
    "2. Create and clone your own course repository\n",
    "\n",
    "It is most efficient if you follow step by step. TAs will make sure everybody stays on board. If this is easy for you - great. Still follow along step by step. It will be most efficient if we go slow so that everybody follows along. So please be patient. \n",
    "\n",
    "### Configure git environment\n",
    "\n",
    "#### git configuration\n",
    "\n",
    "Two, maybe three commands are required to configure git on the terminal in you JupyterLab session:\n",
    "* `git config --global user.name \"Doe, John\" `  You should enter the same last name, first name combination as was used for creating your gitlab account\n",
    "* `git config --global user.email johndoe@example.com` - again, use the same email address as the one used for your GitLab account\n",
    "* while you are at it you may want to set your default command-line editor (you can change it later), for example if you want to use `emacs` use the command `git config --global core.editor emacs`.\n",
    "\n",
    "This information is stored in a so-called _dot_ file called `.gitconfig` which resides in your home directory. You can inspect the content of this file with the terminal command `cat ~/.gitconfig`\n",
    "\n",
    "#### ssh keys\n",
    "\n",
    "Continue in the terminal of your JupyterLab session.\n",
    "\n",
    "* `mkdir ~/.ssh` (if the response is `mkdir: cannot create directory '.ssh': File exists` then skip this step and move to next\n",
    "* `cd ~/.ssh`  \n",
    "* `ssh-keygen` - followed by three times hitting the return key accepting the defaults, this will create the files `id_rsa` and  `id_rsa.pub`,  `id_rsa.pub` is the public key, it needs to be saved into your GitLab settings in the next step.\n",
    "* In a new browser tab log into the [Abacus GitLab server](http://abacus.phys.uvic.ca) and navigate to the  _User settings_ $\\rightarrow$ _ssh keys_ (click on the top right on your User menu, select Settings, and then on the left select the key with label _SSH keys_, you may have to _toggle the sidebar_). Then issue the command `cat ./id_rsa.pub` to show the content of the public key. Copy and paste into the ssh key field in the GitLab server tab and save there. \n",
    "\n",
    "In the next step we will test if this has worked."
   ]
  },
  {
   "cell_type": "markdown",
   "metadata": {},
   "source": [
    "### Clone the updated course repository\n",
    "\n",
    "On the terminal change to your home directory with the `cd` command (no arguments). Then\n",
    "do\n",
    "```bash\n",
    "git clone ssh://git@abacus.phys.uvic.ca:2233/fherwig/phys248-course-21.git\n",
    "```\n",
    "Remember that you can copy this command from the _Clone_ menu, see today's class for a picture. If you are requested to enter a password you have not configured the ssh keys correctly in the previous step. Ask a TA for help **now**. \n",
    "\n",
    "### Create your own course repository and add/commit your `phys248` directory\n",
    "\n",
    "Each student needs to create their own course repository on the GitLab server. Going forward you will be committing your labs, your assignments etc into this repository and pushing it to the Abacus GitLab remote of your repository. Proceed as follows:\n",
    "1. Go to the GitLab server in the web browser, and log in if you are not still logged in. \n",
    "2. Create a new project (either there is a big button at the home page of the GitLab session, or have a look for a \"+\" menu at the top to the left of the search field.\n",
    "3. Enter for _Project name_ \"phys248\", leave the _Visibility Level_ to _Private_ and **do not** select _Initialize repository with a REAMDE_. Click the _Create Project_ button.\n",
    "4. Dismiss the blue \"The Auto DevOps pipeline has been enabled ...\" information at the top, if it appears.\n",
    "5. Switch to the terminal in your Jupyter session, and perform the following commands one at a time, and check that there are no error messages: \n",
    "```\n",
    "cd\n",
    "cd phys248\n",
    "git init\n",
    "git remote add origin ssh://git@abacus.phys.uvic.ca:2233/V00000001/phys248.git\n",
    "```\n",
    "6. Create a file called `.gitignore ` with the content `.ipynb_checkpoints`. You can use an editor or the command `cat > .gitignore`, then copy-paste `.ipynb_checkpoints` and finish with `Ctrl-D`.\n",
    "7. Continue with adding/staging your files and commit, and finally push to the remote:\n",
    "```\n",
    "git add .\n",
    "git commit -m \"Initial commit\"\n",
    "git push -u origin master\n",
    "``` \n",
    "6. Switch back to GitLab and check the content of your repo which should now contain the files in your `phys248` directory. This is now your personal course repository. From now on you will submit all labs, assignments and exams to this repo.\n",
    "5. Go to  to _Members_ (almost at the bottom of the left side bar), and on the _Invite member_ tab search for \"Herwig\" and add \"Falk Herwig\" and **NOT** \"Herwig, Falk\". Give \"Falk Herwig\" the role _Maintainer_. That page should now have at the bottom the following entry for \"Falk Herwig\" in your _Existing members and groups_ section. \n",
    "![members-and-groups](../Figs/Git-your-repo-members.png)\n",
    "\n",
    "\n",
    "That's it. \n",
    "\n",
    "### Workflow going forward\n",
    "1. When new content is posted on the _course repository_ `phys248-course-21` you `git pull` the new content. It is strongly recommended that you do not edit or even open notebooks inside the course repository (to avoid merge conflicts at the next `git pull`). Instead `cp` the notebook you want to work on, e.g. the lecture or lab or assignment notebook, to your own `phys248` repository. E.g. `cp ~/phys248-course-21/Lectures/3.1_Linux_terminal_git.ipynb ~/phys248/Lectures`. \n",
    "2. Add/commit the new notebook there to your own `phys248` and then start editing. When labs/assignments are finished add/commit/push. It is recommended that you also add/commit/push your lecture notebooks copied into your `phys248` repo, so that any additional notes or examples that you have added are archived in your repository.  \n",
    "\n",
    "On Thursday we will practice this workflow in the Quiz.\n"
   ]
  },
  {
   "cell_type": "markdown",
   "metadata": {},
   "source": [
    "### Activity 1\n",
    "Name: `git-check`\n",
    "\n",
    "Using the terminal command `cd` navigate to your `phys248` repository directory and launch the command `git status`. Paste the first line of the command output into the quiz. \n",
    "\n",
    "**Complete this activity before the end of the lab by entering the answer into the Brightspace quiz**\n"
   ]
  },
  {
   "cell_type": "markdown",
   "metadata": {},
   "source": [
    "### Activity 2\n",
    "Name: `string-counting`\n",
    "\n",
    "The list `string` is defined as follows:\n",
    "```Python\n",
    "strings = ['a', 'bcd', 'efgahij','klm','noprqrst','uvwx','yz']\n",
    "```\n",
    "\n",
    "* Write a `for` loop that prints the length of each string in `strings`. \n",
    "* Create a list called `line_length` of the line length using list comprehension. Recall the general structure of list comprehension: `[statement_on_item for item in list]`\n",
    "* Calculate the total number of characters in all lines, including the spaces. **Hint:** turn the just created list into an array and then proceed.\n",
    "\n",
    "Enter this number into the quiz.\n",
    "\n",
    "**Complete this activity before Thursday 9:00am.**\n"
   ]
  },
  {
   "cell_type": "code",
   "execution_count": 13,
   "metadata": {},
   "outputs": [
    {
     "name": "stdout",
     "output_type": "stream",
     "text": [
      "1\n",
      "3\n",
      "7\n",
      "3\n",
      "8\n",
      "4\n",
      "2\n",
      "total number of characters:  28\n"
     ]
    }
   ],
   "source": [
    "import numpy as np\n",
    "strings = ['a', 'bcd', 'efgahij','klm','noprqrst','uvwx','yz']\n",
    "for i in strings:\n",
    "    print(len(i))\n",
    "line_length = [len(i) for i in strings]\n",
    "#don't have to change it to an array??\n",
    "print(\"total number of characters: \",sum(arr))"
   ]
  },
  {
   "cell_type": "code",
   "execution_count": null,
   "metadata": {},
   "outputs": [],
   "source": []
  }
 ],
 "metadata": {
  "kernelspec": {
   "display_name": "Python 3",
   "language": "python",
   "name": "python3"
  },
  "language_info": {
   "codemirror_mode": {
    "name": "ipython",
    "version": 3
   },
   "file_extension": ".py",
   "mimetype": "text/x-python",
   "name": "python",
   "nbconvert_exporter": "python",
   "pygments_lexer": "ipython3",
   "version": "3.6.9"
  }
 },
 "nbformat": 4,
 "nbformat_minor": 4
}
