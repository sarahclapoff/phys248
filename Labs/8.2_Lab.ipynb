{
 "cells": [
  {
   "cell_type": "markdown",
   "metadata": {},
   "source": [
    "## Lab 8.2\n",
    "\n",
    "Don't forget to push your lab notebook to your repo once you entered a quiz."
   ]
  },
  {
   "cell_type": "markdown",
   "metadata": {},
   "source": [
    "### Activity 1\n",
    "Name: `growth-at4`\n",
    "\n",
    "Finish by end of the lab\n",
    "\n",
    "Exponential growth (for example of a population) can be modelled by the following equation\n",
    "\n",
    "$$\n",
    "u'(t) = \\alpha u(t)\n",
    "$$\n",
    "\n",
    "where $a>0$ is a given constant. If the initial condition is given by  $u(0) = u_0$ the solution is given by $u(t) = u_0 e^{\\alpha t}$. Since $a>0$ the solution becomes very large as $t$ increases. For a short time, such growth of a population may be realistic, but over a longer time, the growth of a population is restricted due to limitations of the environment. This can be descirbed by a _logistic growth term_:\n",
    "\n",
    "$$\n",
    "u'(t) = \\alpha u(t)  \\left ( 1-\\frac{u(t)}{R}  \\right )\n",
    "$$\n",
    "\n",
    "Solve this equation for $u_0 = 2$, $\\alpha = 1$ and $R=100$ for $t\\in[0,11]$. Make a plot of $u(t)$. What is $u(4)$. Enter the value rounded to one decimal in question `growth-at4`.\n"
   ]
  },
  {
   "cell_type": "code",
   "execution_count": 1,
   "metadata": {},
   "outputs": [],
   "source": [
    "import numpy as np\n",
    "import matplotlib.pyplot as plt\n",
    "from scipy import integrate\n",
    "\n",
    "#ivp and odeint are the two main ways to solve odes, let's do it both ways!"
   ]
  },
  {
   "cell_type": "markdown",
   "metadata": {},
   "source": [
    "differences between solve_ivp and odeint:\n",
    "- solve_ivp:\n",
    " * doesn't allow extra arguments to pass to function - use lambda and def  RHS funcs\n",
    " * order of function is f(t, u)\n",
    " * input:\n",
    "         fun: function, called as f(t,y)\n",
    "         t_span: tuple, interval of integration\n",
    "         y0: array, initial value\n",
    "         method: integration method to use. runge-kutte 5(4) is default\n",
    "         t_eval: array, times at which to store computed solution (t values for which y will be outputted) \n",
    " * returns: \n",
    "         nfev: number of evaluations of right hand side\n",
    "         njev: number of evaluations of Jacobian\n",
    "         nlu: number of LU decompositions\n",
    "         t: time points (t=t_eval if specified)\n",
    "         y: values of solution at 't'\n",
    " \n",
    "- odeint:\n",
    " * allows extra arguments - just need the one RHS function\n",
    " * order of function is f(u, t) (opposite of integrate.ode and solve_ivp)\n",
    "     can switch order by setting tfirst='True'\n",
    " * input:\n",
    "         func\n",
    "         y0\n",
    "         t\n",
    "         args=(): additional arguments to pass to func\n",
    " * returns:\n",
    "         y: array shape(len(t), len(y0)). Contains value of y for each t.\n",
    "         infodict: dict with extra info, returned if full_output='True'\n",
    "     "
   ]
  },
  {
   "cell_type": "code",
   "execution_count": 2,
   "metadata": {},
   "outputs": [
    {
     "name": "stdout",
     "output_type": "stream",
     "text": [
      "full output from integrate.solve_ivp:\n",
      "  message: 'The solver successfully reached the end of the integration interval.'\n",
      "     nfev: 62\n",
      "     njev: 0\n",
      "      nlu: 0\n",
      "      sol: None\n",
      "   status: 0\n",
      "  success: True\n",
      "        t: array([ 0.,  1.,  2.,  3.,  4.,  5.,  6.,  7.,  8.,  9., 10., 11.])\n",
      " t_events: None\n",
      "        y: array([[ 2.        ,  5.25613459, 13.10587897, 29.0756534 , 52.76377441,\n",
      "        75.21846097, 89.21091473, 95.74576507, 98.40863034, 99.4103065 ,\n",
      "        99.77079102, 99.91521265]])\n",
      "full output from integrate.odeint:\n",
      "[[ 2.        ]\n",
      " [ 5.25593974]\n",
      " [13.10370412]\n",
      " [29.07343138]\n",
      " [52.70185964]\n",
      " [75.17896083]\n",
      " [89.16956511]\n",
      " [95.72288754]\n",
      " [98.38281579]\n",
      " [99.3989268 ]\n",
      " [99.77803442]\n",
      " [99.91822881]]\n"
     ]
    }
   ],
   "source": [
    "u0 = 2; a = 1; R = 100; \n",
    "t = (0,11) #t_range for integration\n",
    "t_eval = np.linspace(0,11,12) # 'times at which to store computed solution,' otherwise uses different set for t\n",
    "\n",
    "#it's pretty common to have this kind of format (def function that does the thing, and lambda function to call it with additional arguments)\n",
    " #for functions like solve_ivp that don't have a parameter for additional arguments\n",
    "\n",
    "#derivative function (rhs):\n",
    "def dudt(u,t,a, R):\n",
    "    return a*u[0]*(1-u[0]/R)\n",
    "\n",
    "dudt_ivp = lambda t,u: dudt(u,t,a,R)\n",
    "\n",
    "#why does u0 have to be an array? - for vectorization\n",
    "sol_rk45 = integrate.solve_ivp(dudt_ivp, t, [u0], t_eval=t_eval)\n",
    "\n",
    "sol_ode = integrate.odeint(dudt, [u0], t_eval, args=(a,R))\n",
    "\n",
    "print(\"full output from integrate.solve_ivp:\")\n",
    "print(sol_rk45)\n",
    "#solution is in 'y' of the returned object\n",
    "print(\"full output from integrate.odeint:\")\n",
    "print(sol_ode)"
   ]
  },
  {
   "cell_type": "code",
   "execution_count": 3,
   "metadata": {},
   "outputs": [
    {
     "name": "stdout",
     "output_type": "stream",
     "text": [
      "solve_ivp RK45 value for u(4) = 52.7638\n",
      "odeint value for u(4) = 52.7019\n"
     ]
    },
    {
     "data": {
      "image/png": "[encoded data removed]",
      "text/plain": [
       "<Figure size 432x288 with 1 Axes>"
      ]
     },
     "metadata": {
      "needs_background": "light"
     },
     "output_type": "display_data"
    }
   ],
   "source": [
    "#plot graphs and get quiz answer\n",
    "u_rk45 = np.ravel(sol_rk45.y)\n",
    "u_ode = np.ravel(sol_ode)\n",
    "plt.plot(t_eval, u_rk45, '--', label='solve_ivp RK45')\n",
    "plt.plot(t_eval, u_ode, label='odeint')\n",
    "plt.title('u(t) solved with integrate.odeint and integrate.solve_ivp')\n",
    "plt.xlabel(\"time\")\n",
    "plt.ylabel(\"u(t)\")\n",
    "\n",
    "print('solve_ivp RK45 value for u(4) = {:.4f}'.format(u_rk45[4]))\n",
    "print('odeint value for u(4) = {:.4f}'.format(u_ode[4]))"
   ]
  },
  {
   "cell_type": "markdown",
   "metadata": {},
   "source": [
    "### Activity 2\n",
    "Name: `skydiver-v7.5`,`skydiver-x`\n",
    "\n",
    "Finish by Monday 9:30am. \n",
    "\n"
   ]
  },
  {
   "cell_type": "markdown",
   "metadata": {},
   "source": [
    "1. Solve the skydiver problem with the same initial height ($2000m$) and $k$ value as in class with the library `integrate.solve_ivp` and make a plot of velocity vs. time for $t \\in [0,7.5]s$. Enter the velocity at $t=7.5s$ rounded to two decimal places into question `skydiver-v7.5`.\n",
    "2. Add a height-dependent horizontal wind $v_\\mathrm{x} = 0.1h \\mathrm{Hz}$ where h is the height. Use the same air friction force as in the class notes (same $k$). Consider that the air friction force is due to the apparent wind in the horizontal direction. Make a plot of height vs. horizontal x position. Enter the horizontal position at $t=20s$ into question `skydiver-x`."
   ]
  },
  {
   "cell_type": "code",
   "execution_count": 4,
   "metadata": {},
   "outputs": [
    {
     "data": {
      "image/png": "[encoded data removed]",
      "text/plain": [
       "<Figure size 432x288 with 1 Axes>"
      ]
     },
     "metadata": {
      "needs_background": "light"
     },
     "output_type": "display_data"
    },
    {
     "name": "stdout",
     "output_type": "stream",
     "text": [
      "skydiver-v7.5: veolicty at t=7.5s: -52.92m/s\n"
     ]
    }
   ],
   "source": [
    "#its goddamn fucking 2000m not 2000m/s fucking hell fuCK\n",
    "h0 = 2000 \n",
    "k = 0.5*.3*1.225*1/80\n",
    "t_eval = np.linspace(0,7.5,20)  \n",
    "t = (0, 7.5)\n",
    "g = 9.81\n",
    "\n",
    "def rhs_sdiver_ivp(y,t,k,g):\n",
    "    #y[0] = height, y[1]=velocity\n",
    "    'Evaluate RHS for skydiver problem, advance one time step'\n",
    "    #dhdt = v\n",
    "    dhdt = y[1]\n",
    "    #dvdt = -g + k*v**2\n",
    "    dvdt = k*y[1]**2 - g\n",
    "    return [dhdt,dvdt]\n",
    "\n",
    "dvdt = lambda t,y: rhs_sdiver_ivp(y,t,k,g)\n",
    "sol = integrate.solve_ivp(dvdt, t, [h0,0], t_eval=t_eval)\n",
    "\n",
    "#solution is stored in sol.y\n",
    "#velocity is in y[1]\n",
    "v = np.ravel(sol.y[1])\n",
    "#print(v, sol)\n",
    "plt.plot(t_eval,v)\n",
    "plt.xlabel('time(s)')\n",
    "plt.ylabel('velocity(m/s)')\n",
    "plt.title('skydiver velocity')\n",
    "plt.show()\n",
    "\n",
    "print(\"skydiver-v7.5: veolicty at t=7.5s: {:.2f}m/s\".format(v[-1]))"
   ]
  },
  {
   "cell_type": "markdown",
   "metadata": {},
   "source": [
    "#### Now add horizontal wind"
   ]
  },
  {
   "cell_type": "markdown",
   "metadata": {},
   "source": [
    "2. Add a height-dependent horizontal wind $v_\\mathrm{x} = 0.1h \\mathrm{Hz}$ where h is the height. Use the same air friction force as in the class notes (same $k$). Consider that the air friction force is due to the apparent wind in the horizontal direction. Make a plot of height vs. horizontal x position. Enter the horizontal position at $t=20s$ into question `skydiver-x`."
   ]
  },
  {
   "cell_type": "markdown",
   "metadata": {},
   "source": [
    "The   expression for the drag force is \n",
    "$$F_D = \\frac{1}{2} C_D \\rho v^2 A ,$$ where $C_D \\approx 0.3$ is the drag coefficient, $v$ velocity of object experiencing the drag, $\\rho = 1.224 \\mathrm{kg/m^3}$ the density of air the object is experiencing the drag in. $A$ is the cross-sectional area of the object, for a skydiver assume $A = 1 m^2$, and their weight is $80\\mathrm{kg}$."
   ]
  },
  {
   "cell_type": "code",
   "execution_count": 10,
   "metadata": {},
   "outputs": [
    {
     "name": "stdout",
     "output_type": "stream",
     "text": [
      "skydiver-x: x position at t=20s = 2768.766104\n"
     ]
    },
    {
     "data": {
      "image/png": "[encoded data removed]",
      "text/plain": [
       "<Figure size 432x288 with 1 Axes>"
      ]
     },
     "metadata": {
      "needs_background": "light"
     },
     "output_type": "display_data"
    }
   ],
   "source": [
    "#parameters, same k and g from before\n",
    "Cd = .3; rho=1.224; A=1; m=80\n",
    "init_state = [2000, 0, 0, 0]\n",
    "t_range = (0,20)\n",
    "t_eval = np.linspace(0,20)\n",
    "\n",
    "#want total velocity for drag\n",
    "def rhs_sdiver_ivp2(diver,t,params):\n",
    "    k,g,Cd,rho,A,m = params\n",
    "    #diver[0] = height, diver[1]=y_velocity, diver[2]=xpos, diver[3]=xvelocity ()\n",
    "    'Evaluate RHS for skydiver problem, advance one time step'\n",
    "    #dhdt = v\n",
    "    dhdt = diver[1]\n",
    "    #dvdt = -g + k*v**2\n",
    "    dvydt = k*diver[1]**2 - g\n",
    "    #vx=dxdt= = .1*h\n",
    "    dxdt = 0.1*diver[0]\n",
    "    #ax=dvxdt= Fd/m\n",
    "    #dvxdt = .5*Cd*rho*A*diver[3]**2 / m\n",
    "    #want total velocity for drag\n",
    "    # dvxdt = .5*Cd*rho*A*(diver[3]**2+diver[1]**2) / m\n",
    "    # k = .5*Cd*rho*A/m\n",
    "    dvxdt = k*(diver[3]**2 + diver[1]**2)\n",
    "    return [dhdt,dvydt, dxdt, dvxdt]\n",
    "\n",
    "params = (k,g,Cd,rho,A,m)\n",
    "ivp2 = lambda t, diver: rhs_sdiver_ivp2(diver, t, params)\n",
    "\n",
    "sol2 = integrate.solve_ivp(ivp2, t_range, init_state, t_eval=t_eval)\n",
    "\n",
    "\n",
    "h = sol2.y[0]\n",
    "x = sol2.y[2]\n",
    "plt.plot(x,h)\n",
    "plt.xlabel('x position(m)')\n",
    "plt.ylabel('height(m)')\n",
    "# print(x)\n",
    "print('skydiver-x: x position at t=20s = %.6f' %x[-1])"
   ]
  },
  {
   "cell_type": "code",
   "execution_count": null,
   "metadata": {},
   "outputs": [],
   "source": []
  }
 ],
 "metadata": {
  "kernelspec": {
   "display_name": "Python 3",
   "language": "python",
   "name": "python3"
  },
  "language_info": {
   "codemirror_mode": {
    "name": "ipython",
    "version": 3
   },
   "file_extension": ".py",
   "mimetype": "text/x-python",
   "name": "python",
   "nbconvert_exporter": "python",
   "pygments_lexer": "ipython3",
   "version": "3.6.9"
  }
 },
 "nbformat": 4,
 "nbformat_minor": 4
}
