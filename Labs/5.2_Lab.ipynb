{
 "cells": [
  {
   "cell_type": "markdown",
   "metadata": {},
   "source": [
    "## Lab 5.2\n",
    "\n",
    "* review Labs from week 3 as well as Assignment 1"
   ]
  },
  {
   "cell_type": "markdown",
   "metadata": {},
   "source": [
    "### Activity 1\n",
    "\n",
    "Finish by end of Lab. \n"
   ]
  },
  {
   "cell_type": "markdown",
   "metadata": {},
   "source": [
    "Name: `deriv-diff1`\n",
    "\n",
    "1. Create a python function `func1` that calculates \n",
    "$$f(x) = sin(x^2)\\frac{x^2}{exp(-\\frac{x}{2})}$$. Make a plot for  $x\\in[-2.5,1]$ using an x array representing 100 intervals.\n",
    "2. Calculate the derivative numerically using this same equidistant array in x with, once with `h = 0.2` and a second time with `h = 0.01`. Make a plot of both derivatives using different line styles and all necessary plot decorations. \n",
    "3. Calculate the sum of the difference of the derivative with `h = 0.01` minus the one with `h = 0.2`, round to two decimals and enter the answer into  question `deriv-diff1`.\n",
    "\n",
    "Complete this activity before the end of the lab by entering the answer into the Brightspace quiz. Add, commit and push this notebook to your repository."
   ]
  },
  {
   "cell_type": "code",
   "execution_count": 2,
   "metadata": {},
   "outputs": [
    {
     "name": "stdout",
     "output_type": "stream",
     "text": [
      "Populating the interactive namespace from numpy and matplotlib\n"
     ]
    }
   ],
   "source": [
    "%pylab ipympl"
   ]
  },
  {
   "cell_type": "code",
   "execution_count": 3,
   "metadata": {},
   "outputs": [
    {
     "data": {
      "application/vnd.jupyter.widget-view+json": {
       "model_id": "d8806634c7be44e3b4f85793258f43ea",
       "version_major": 2,
       "version_minor": 0
      },
      "text/plain": [
       "Canvas(toolbar=Toolbar(toolitems=[('Home', 'Reset original view', 'home', 'home'), ('Back', 'Back to previous …"
      ]
     },
     "metadata": {},
     "output_type": "display_data"
    }
   ],
   "source": [
    "#functions for activity 1\n",
    "#1.\n",
    "def func1(x):\n",
    "    return sin(x*x)*x*x/exp(-x/2)\n",
    "\n",
    "#2.\n",
    "def deriv1(f,x,h):\n",
    "    dfdx = (f(x+h) - f(x))/h\n",
    "    return dfdx\n",
    "    \n",
    "#1\n",
    "ifig=1;close(ifig);figure(ifig)\n",
    "x = np.linspace(-2.5, 1, 100)\n",
    "plt.plot(x, func1(x))\n",
    "plt.xlabel('x')\n",
    "plt.ylabel('func1(x)')\n",
    "plt.show()\n",
    "\n"
   ]
  },
  {
   "cell_type": "code",
   "execution_count": 4,
   "metadata": {},
   "outputs": [
    {
     "data": {
      "application/vnd.jupyter.widget-view+json": {
       "model_id": "07de103e8d3b44c5a6ac6730f22ffb7a",
       "version_major": 2,
       "version_minor": 0
      },
      "text/plain": [
       "Canvas(toolbar=Toolbar(toolitems=[('Home', 'Reset original view', 'home', 'home'), ('Back', 'Back to previous …"
      ]
     },
     "metadata": {},
     "output_type": "display_data"
    },
    {
     "name": "stdout",
     "output_type": "stream",
     "text": [
      "answer to quiz 1: -37.51\n"
     ]
    }
   ],
   "source": [
    "#2\n",
    "d2 = deriv1(func1, x, .2)\n",
    "d01 = deriv1(func1, x, .01)\n",
    "ifig=2; close(ifig); figure(ifig)\n",
    "plt.plot(x, d2, '--', linewidth='1', label='h=0.2')\n",
    "plt.plot(x, d01, '--', linewidth='1', label='h=0.01')\n",
    "plt.legend()\n",
    "plt.xlabel('x')\n",
    "plt.ylabel(\"func1'(x)\")\n",
    "plt.show()\n",
    "\n",
    "#3\n",
    "diff = sum(d01) - sum(d2)\n",
    "print('answer to quiz 1: %.2f' %diff)"
   ]
  },
  {
   "cell_type": "markdown",
   "metadata": {},
   "source": [
    "### Activity 2\n",
    "Name: `deriv2-diff`,`deriv-roots`\n",
    "\n",
    "Finish by Thursday 9:30am. \n",
    "\n",
    "1. Write a function `deriv2` that implements the 3rd-order derivative according to Eqn. 3 in today's class notebook. Calculate the derivative with `deriv2` with the same `x` array and function func1 from Activity 1 and add that derivative with a dot-dashed line to the derivative figure in Activity 1.\n",
    "2. Calculate again the sum of the difference of the derivative with `h = 0.01` with `deriv1` minus this one the one with `h = 0.2` and `deriv2`, round to two decimals and enter the answer into  question `deriv2-diff`. What is your observation regarding the accuracy of the `deriv2` vs. `deriv`.\n",
    "3. Use the `x` arrray and the derivative array calculated in this problem (with `h = 0.2` and `deriv2`) to find the x locations of the three extrema in the function `func1`. One possibility is to find the array index pointing at the location where the sign of the derivative changes. Between the corresponding value pairs is the root. Interpolate linearly between these two points for an accurate determination of the x coordinate of the three extrema. Add the three values, round to two digits and enter into question `deriv-roots`.\n",
    "\n"
   ]
  },
  {
   "cell_type": "code",
   "execution_count": 5,
   "metadata": {},
   "outputs": [
    {
     "data": {
      "application/vnd.jupyter.widget-view+json": {
       "model_id": "ad950c973b98421fabd95f66e8bda388",
       "version_major": 2,
       "version_minor": 0
      },
      "text/plain": [
       "Canvas(toolbar=Toolbar(toolitems=[('Home', 'Reset original view', 'home', 'home'), ('Back', 'Back to previous …"
      ]
     },
     "metadata": {},
     "output_type": "display_data"
    }
   ],
   "source": [
    "def deriv2(f, x, h):\n",
    "    return (f(x+h) - f(x-h))/(2*h)\n",
    "\n",
    "#using stepsize h=.01 and h=.2\n",
    "d2_2 = deriv2(func1, x, .2)\n",
    "d2_01 = deriv2(func1, x, .01)\n",
    "\n",
    "test=deriv2(func1, -2.5, .2)\n",
    "\n",
    "#adding to part 1\n",
    "ifig=3; close(ifig); figure(ifig)\n",
    "plt.plot(x, d01, label = '2nd order, h=0.01')\n",
    "plt.plot(x, d2, label = '2nd order, h=0.2')\n",
    "plt.plot(x, d2_01, '-.', label='3rd order, h=0.01')\n",
    "plt.plot(x, d2_2, '-.', label = '3rd order, h=0.2')\n",
    "plt.ylabel(\"func1'(x)\")\n",
    "plt.xlabel(\"x\")\n",
    "plt.legend()\n",
    "plt.show()"
   ]
  },
  {
   "cell_type": "code",
   "execution_count": 6,
   "metadata": {},
   "outputs": [
    {
     "name": "stdout",
     "output_type": "stream",
     "text": [
      "answer to quiz 2 deriv2-diff: 1.13\n",
      "with a smaller step size (h=0.01), the derivative approximations are similar. However, with a larger step size,\n",
      "the calculated differences and the graph both show that the third order derivative is a better approximation.\n",
      "This is supported by the fact that the third order approximation contains more terms (see 5.2 notebook).\n"
     ]
    }
   ],
   "source": [
    "#2\n",
    "deriv2_diff = sum(d01) - sum(d2_2)\n",
    "print('answer to quiz 2 deriv2-diff: %.2f' %deriv2_diff)\n",
    "print(\"with a smaller step size (h=0.01), the derivative approximations are similar. However, with a larger step size,\")\n",
    "print(\"the calculated differences and the graph both show that the third order derivative is a better approximation.\")\n",
    "print(\"This is supported by the fact that the third order approximation contains more terms (see 5.2 notebook).\")"
   ]
  },
  {
   "cell_type": "code",
   "execution_count": 6,
   "metadata": {},
   "outputs": [
    {
     "name": "stdout",
     "output_type": "stream",
     "text": [
      "help: -7.501140264634771 -7.501140264634771 -7.501140264634771\n"
     ]
    }
   ],
   "source": [
    "print(\"help:\", d2_2[0], deriv2(func1, -2.5, .2), deriv2(func1, x[0], .2))"
   ]
  },
  {
   "cell_type": "code",
   "execution_count": 7,
   "metadata": {},
   "outputs": [],
   "source": [
    "#bisection function to find extrema\n",
    "def find_extrema(a,b, count):\n",
    "    count -= 1\n",
    "    if count <0:\n",
    "        print('could not converge.', count)\n",
    "        return\n",
    "    new_ext = (a + b)/2\n",
    "    new_deriv = deriv2(func1, new_ext, .2)\n",
    "    #print(\"new\", new_ext, new_deriv, deriv2(func1, a, .2))\n",
    "    if(-1e-5 < new_deriv < 1e-5):\n",
    "        return new_ext\n",
    "    elif sign(deriv2(func1, a, .2)) != sign(new_deriv):        \n",
    "        return find_extrema(a, new_ext, count)\n",
    "    else:\n",
    "        return find_extrema(new_ext, b, count)"
   ]
  },
  {
   "cell_type": "code",
   "execution_count": 9,
   "metadata": {},
   "outputs": [
    {
     "name": "stdout",
     "output_type": "stream",
     "text": [
      "[ 1.  1.  1.  1.  1.  1.  1.  1.  1. -1.  1.  1.  1.  1.  1.  1.  1.  1.\n",
      "  1.  1.  1.  1.  1.  1.  1.  1.  1.  1.  1.  1.  1.  1. -1.  1.  1.  1.\n",
      "  1.  1.  1.  1.  1.  1.  1.  1.  1.  1.  1.  1.  1.  1.  1.  1.  1.  1.\n",
      "  1.  1.  1.  1.  1.  1.  1.  1.  1.  1.  1.  1.  1.  1.  1.  1. -1.  1.\n",
      "  1.  1.  1.  1.  1.  1.  1.  1.  1.  1.  1.  1.  1.  1.  1.  1.  1.  1.\n",
      "  1.  1.  1.  1.  1.  1.  1.  1.  1.]\n",
      "extrema: x between -2.1818181818181817 -2.1464646464646466\n",
      "extrema: x between -1.3686868686868687 -1.3333333333333335\n",
      "extrema: x between -0.025252525252525526 0.010101010101009944\n"
     ]
    },
    {
     "ename": "NameError",
     "evalue": "name 'find_extrema' is not defined",
     "output_type": "error",
     "traceback": [
      "\u001b[0;31m---------------------------------------------------------------------------\u001b[0m",
      "\u001b[0;31mNameError\u001b[0m                                 Traceback (most recent call last)",
      "\u001b[0;32m<ipython-input-9-ba16da6ffa4c>\u001b[0m in \u001b[0;36m<module>\u001b[0;34m\u001b[0m\n\u001b[1;32m     19\u001b[0m \u001b[0;31m#for each extrema, find point where deriv is close to 0 (bisection)\u001b[0m\u001b[0;34m\u001b[0m\u001b[0;34m\u001b[0m\u001b[0;34m\u001b[0m\u001b[0m\n\u001b[1;32m     20\u001b[0m \u001b[0;32mfor\u001b[0m \u001b[0ma\u001b[0m\u001b[0;34m,\u001b[0m\u001b[0mb\u001b[0m \u001b[0;32min\u001b[0m \u001b[0mextrema_interval\u001b[0m\u001b[0;34m:\u001b[0m\u001b[0;34m\u001b[0m\u001b[0;34m\u001b[0m\u001b[0m\n\u001b[0;32m---> 21\u001b[0;31m     \u001b[0mext\u001b[0m \u001b[0;34m=\u001b[0m \u001b[0mfind_extrema\u001b[0m\u001b[0;34m(\u001b[0m\u001b[0ma\u001b[0m\u001b[0;34m,\u001b[0m\u001b[0mb\u001b[0m\u001b[0;34m,\u001b[0m \u001b[0mcount\u001b[0m\u001b[0;34m=\u001b[0m\u001b[0;36m100\u001b[0m\u001b[0;34m)\u001b[0m\u001b[0;34m\u001b[0m\u001b[0;34m\u001b[0m\u001b[0m\n\u001b[0m\u001b[1;32m     22\u001b[0m     \u001b[0mextrema\u001b[0m\u001b[0;34m.\u001b[0m\u001b[0mappend\u001b[0m\u001b[0;34m(\u001b[0m\u001b[0mext\u001b[0m\u001b[0;34m)\u001b[0m\u001b[0;34m\u001b[0m\u001b[0;34m\u001b[0m\u001b[0m\n\u001b[1;32m     23\u001b[0m     \u001b[0mprint\u001b[0m\u001b[0;34m(\u001b[0m\u001b[0;34m\"extrema approximately at: \"\u001b[0m\u001b[0;34m,\u001b[0m \u001b[0mext\u001b[0m\u001b[0;34m)\u001b[0m\u001b[0;34m\u001b[0m\u001b[0;34m\u001b[0m\u001b[0m\n",
      "\u001b[0;31mNameError\u001b[0m: name 'find_extrema' is not defined"
     ]
    }
   ],
   "source": [
    "#i'm so dumb omg. WHEN USING %impympl DON'T USE e AS A VARIABLE IF YOU'RE ALSO USING IT AS np.e !!!!!!!!!!\n",
    "\n",
    "d2_sign = sign(d2_2)\n",
    "extrema_interval = []\n",
    "extrema = []\n",
    "\n",
    "#solution: multiply neighbouring elements with each other, \n",
    "#  if same sign, then positive. If negative, then signs change (on either side of an extrema)\n",
    "sol_signchange = d2_sign[1:]*d2_sign[:-1]\n",
    "sol_extrema = np.\n",
    "\n",
    "for i, X in enumerate(x):\n",
    "    if(d2_sign[i-1] != d2_sign[i] and i!=0):\n",
    "        print(\"extrema: x between\", x[i-1], X)\n",
    "        #print(\"derivs:\", d2_2[i-1], d2_2[i])\n",
    "        extrema_interval.append((x[i-1], X))\n",
    "        \n",
    "#for each extrema, find point where deriv is close to 0 (bisection)\n",
    "for a,b in extrema_interval:\n",
    "    ext = find_extrema(a,b, count=100)\n",
    "    extrema.append(ext)\n",
    "    print(\"extrema approximately at: \", ext)\n",
    "    \n",
    "print('answer for deriv-roots: ', sum(extrema))"
   ]
  },
  {
   "cell_type": "code",
   "execution_count": null,
   "metadata": {},
   "outputs": [],
   "source": []
  }
 ],
 "metadata": {
  "kernelspec": {
   "display_name": "Python 3.8.2 32-bit",
   "language": "python",
   "name": "python3"
  },
  "language_info": {
   "codemirror_mode": {
    "name": "ipython",
    "version": 3
   },
   "file_extension": ".py",
   "mimetype": "text/x-python",
   "name": "python",
   "nbconvert_exporter": "python",
   "pygments_lexer": "ipython3",
   "version": "3.8.2 (tags/v3.8.2:7b3ab59, Feb 25 2020, 22:45:29) [MSC v.1916 32 bit (Intel)]"
  },
  "vscode": {
   "interpreter": {
    "hash": "0dfcc34e33ed52bc7b4878902c0c23a990f084208dead8cdbea9f87c27938bfd"
   }
  }
 },
 "nbformat": 4,
 "nbformat_minor": 4
}
