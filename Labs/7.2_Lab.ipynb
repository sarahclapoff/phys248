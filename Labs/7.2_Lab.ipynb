{
 "cells": [
  {
   "cell_type": "markdown",
   "metadata": {},
   "source": [
    "## Lab 7.2\n"
   ]
  },
  {
   "cell_type": "markdown",
   "metadata": {},
   "source": [
    "### Activity 1\n",
    "Name: `sun-area`\n",
    "\n",
    "Finish by end of the Lab.\n",
    "\n",
    "* Size of Sonoran desert: 260,000 square kilometers\n",
    "* Power of solar radiation per unit area on earth: 1,368 W/m2\n",
    "* In 2017, the average annual electricity consumption for a U.S. residential utility customer was 10,399 kilo-watt hours (kWh).\n",
    "* Estimated efficiency of solar thermal power plant: 20%\n",
    "\n",
    "1. What fraction of the Sonoran desert needs to be covered with solar thermal power plants to provide the energy consumption of 50 million residential utility customers? \n",
    "2. How much area is needed in $km^2$? Enter into quiz questions `sun-area`.\n",
    "\n",
    "Use one of the packages discussed in class that is providing unit support. Do not do the work for the unit package, i.e. do not do any unit conversions manually. \n",
    "\n",
    "\n",
    "Note: Power, which is energy per unit time has the unit Watt."
   ]
  },
  {
   "cell_type": "code",
   "execution_count": 10,
   "metadata": {},
   "outputs": [
    {
     "name": "stdout",
     "output_type": "stream",
     "text": [
      "Using matplotlib backend: agg\n",
      "Populating the interactive namespace from numpy and matplotlib\n"
     ]
    }
   ],
   "source": [
    "%pylab \n",
    "import astropy.units as u"
   ]
  },
  {
   "cell_type": "code",
   "execution_count": 12,
   "metadata": {},
   "outputs": [
    {
     "data": {
      "text/latex": [
       "$1368 \\; \\mathrm{\\frac{W}{m^{2}}}$"
      ],
      "text/plain": [
       "<Quantity 1368. W / m2>"
      ]
     },
     "execution_count": 12,
     "metadata": {},
     "output_type": "execute_result"
    }
   ],
   "source": [
    "A_desert = 120000 *u.km**2\n",
    "P_se = 1368 *u.W/u.m**2\n",
    "E_consum = 10399* u.kW * u.h\n",
    "Effic_powerplant = .20\n",
    "\n",
    "#1\n"
   ]
  },
  {
   "cell_type": "markdown",
   "metadata": {},
   "source": [
    "### Activity 2\n",
    "#### Question 1 & 2\n",
    "Name: `randomwalk1d-mean`,`randomwalk1d-stdev`\n",
    "\n",
    "Finish by Monday 9:30am. \n",
    "\n",
    "The goal of this activity is to generate a data set of the result of many random walks. A random walk is given by $n=500$ random steps in one dimension $x$. The random walk starts at $x_0 = 0$. Each step $i$  of the following $n$ steps will advance by $\\Delta x = + 0.5$ or $-0.5$. The probability $P(\\Delta x = - 0.5) = 0.6$. \n",
    "1. Make a plot of one 1D random walk by plotting the position $x(i)$ as a function of the step number $i \\in [1, 2, \\dots, n]$. Calculate the values $x(i)$ without using a loop!\n",
    "2. Write a function that takes as input the (unused) step number $i$ and carries out one random walk as specified above and returns the position at the end of the walk $x(n)$. Again, do not use a loop inside that function.\n",
    "3. Use the `map` function to create an array `xends` of values $x(n)$ for `nwalks = 10000` random walks. \n",
    "4. Plot a histogram of `xends`. Calculate the mean and standard deviation of `xends` and enter each in the quiz questions `randomwalk1d-mean` and `randomwalk1d-stdev`. Hint: You can pretty easily guess what the expectation value of the mean of `xends` is and check your work that way. (I am pretty sure it could be known analytically what the standard deviation is as well. Let me know if you do.)"
   ]
  },
  {
   "cell_type": "markdown",
   "metadata": {},
   "source": [
    "assign3:\n",
    "use map function to get random walks ?"
   ]
  },
  {
   "cell_type": "code",
   "execution_count": 1,
   "metadata": {},
   "outputs": [],
   "source": [
    "#%pylab ipympl\n",
    "import matplotlib.pyplot as plt\n",
    "import numpy as np"
   ]
  },
  {
   "cell_type": "code",
   "execution_count": 5,
   "metadata": {},
   "outputs": [],
   "source": [
    "def walking(n):\n",
    "    prob = [.6,.4]\n",
    "    stepsize = [.5,-.5]\n",
    "    steps = np.random.choice(stepsize, size=n, p=prob)\n",
    "    print(steps)\n",
    "    walk = np.concatenate([steps]).cumsum(0)\n",
    "    print(walk)\n",
    "    return(walk)"
   ]
  },
  {
   "cell_type": "code",
   "execution_count": 7,
   "metadata": {},
   "outputs": [
    {
     "name": "stdout",
     "output_type": "stream",
     "text": [
      "[ 0.5  0.5  0.5  0.5  0.5  0.5 -0.5 -0.5  0.5  0.5]\n",
      "[0.5 1.  1.5 2.  2.5 3.  2.5 2.  2.5 3. ]\n"
     ]
    },
    {
     "data": {
      "image/png": "[encoded data removed]",
      "text/plain": [
       "<Figure size 432x288 with 1 Axes>"
      ]
     },
     "metadata": {
      "needs_background": "light"
     },
     "output_type": "display_data"
    }
   ],
   "source": [
    "n = 10\n",
    "\n",
    "plt.plot(np.arange(n), walking(n), '-o')\n",
    "plt.title('Random walk as function of steps')\n",
    "plt.xlabel(\"steps\")\n",
    "plt.ylabel(\"distance\")\n",
    "plt.show()\n",
    "\n"
   ]
  },
  {
   "cell_type": "markdown",
   "metadata": {},
   "source": [
    "#### Question 3\n",
    "Name: `intercept-noise-data`\n",
    "\n",
    "Copy and paste the following into a code cell to define two arrays\n",
    "\n",
    "\n",
    "```\n",
    "x_noise,y_noise = (array([-1.5  , -1.275, -1.05 , -0.825, -0.6  , -0.375, -0.15 ,  0.075,\n",
    "         0.3  ,  0.525,  0.75 ,  0.975,  1.2  ,  1.425,  1.65 ,  1.875,\n",
    "         2.1  ,  2.325,  2.55 ,  2.775,  3.   ]),\n",
    " array([-1.0099668 ,  0.3322034 ,  1.81796586,  1.64583542,  2.92846064,\n",
    "         2.77085473,  0.90521025,  0.3576988 ,  0.16287582, -1.81826416,\n",
    "        -1.99273992, -4.13833605, -5.66522596, -5.25260809, -6.72657049,\n",
    "        -6.44398528, -6.88801454, -6.2339154 , -5.59783631, -3.86732275,\n",
    "        -1.54614799]))\n",
    "```\n",
    "\n",
    "Find the $x$ coordinate of the inflection point of `y_noise` as a function of `x_noise` by first smoothing the data via spline interpolation and then locating the minimum of the magnitude of the second derivative. Observe the following instructions:\n",
    "* use the SciPy interpolation functions `interpolate.splrep` and `interpolate.splev` \n",
    "* the evaluation array `x_new` should have four times as many points and the same range as `x_noise`\n",
    "* starting with a smoothing parameter `s=0` increase the parameter in increments of `1` until the interpolation only shows one inflection point by visual inspection; adopt that value for `s`\n",
    "* do not use a loop\n",
    "* enter the x value of the `x_new` array where the inflection point of `y_new` is located (do not interpolate in `x_new` to find the sub-grid location) into the quiz `intercept-noise-data`"
   ]
  },
  {
   "cell_type": "code",
   "execution_count": null,
   "metadata": {},
   "outputs": [],
   "source": []
  }
 ],
 "metadata": {
  "kernelspec": {
   "display_name": "Python 3",
   "language": "python",
   "name": "python3"
  },
  "language_info": {
   "codemirror_mode": {
    "name": "ipython",
    "version": 3
   },
   "file_extension": ".py",
   "mimetype": "text/x-python",
   "name": "python",
   "nbconvert_exporter": "python",
   "pygments_lexer": "ipython3",
   "version": "3.6.9"
  }
 },
 "nbformat": 4,
 "nbformat_minor": 4
}
