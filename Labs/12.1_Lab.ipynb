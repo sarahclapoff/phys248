{
 "cells": [
  {
   "cell_type": "markdown",
   "metadata": {},
   "source": [
    "## Lab 12.1\n",
    "\n",
    "Complete this activity before the end of the lab by entering the answer into the Brightspace quiz. Add, commit and push this notebook to your repository.\n"
   ]
  },
  {
   "cell_type": "markdown",
   "metadata": {},
   "source": [
    "### Activity 1\n",
    "Name: `sympy-highp`, `sympy-roots`\n",
    "\n",
    "Finish by the end of the lab at 12:50.\n",
    "\n",
    "\n",
    "Define two expressions:\n",
    "$$\n",
    "\\left(x - 2 y\\right) \\left(x^{2} + 2 y - 3\\right)\n",
    "$$\n",
    "and \n",
    "$$\n",
    "\\left(x^{2} - 5 y\\right) \\left(2 y^{2} + \\frac{1}{x}\\right)\n",
    "$$\n",
    "\n",
    "1. Expand the product of these expressions. What is the highest power of $x$ appearing in any term (by inspection)? Enter into quiz `sympy-highp`.\n",
    "2. Substitute $y$ with $1$ in the product of the two expressions and make a plot of the resulting expression as a function of $x$. Start with $x \\in [-5,5]$ and then zoom in to find visually the approximate location of the roots. Then find the roots by using the appropriate Sympy method. Enter the product of the sum of the roots times the number of roots into quiz `sympy-roots`."
   ]
  },
  {
   "cell_type": "code",
   "execution_count": 66,
   "metadata": {},
   "outputs": [],
   "source": [
    "import sympy \n",
    "import numpy as np\n",
    "import matplotlib.pyplot as plt\n",
    "#to format for nice printing:\n",
    "from IPython.display import display, Latex #import this, then use display(). don't need init_printing()\n",
    "sympy.init_printing(use_latex='mathjax')\n"
   ]
  },
  {
   "cell_type": "code",
   "execution_count": 86,
   "metadata": {},
   "outputs": [
    {
     "name": "stdout",
     "output_type": "stream",
     "text": [
      "Q1 sympy-highp: highest power of x is 5\n",
      "\n",
      " print: \n",
      " 2*x**5*y**2 - 4*x**4*y**3 + x**4 - 6*x**3*y**3 - 6*x**3*y**2 - 2*x**3*y + 12*x**2*y**4 + 12*x**2*y**3 - 3*x**2*y - 3*x**2 - 20*x*y**4 + 30*x*y**3 + 6*x*y**2 + 6*x*y + 40*y**5 - 60*y**4 - 10*y**2 + 15*y + 20*y**3/x - 30*y**2/x\n",
      "\n",
      " latex: \n",
      "  2 x^{5} y^{2} - 4 x^{4} y^{3} + x^{4} - 6 x^{3} y^{3} - 6 x^{3} y^{2} - 2 x^{3} y + 12 x^{2} y^{4} + 12 x^{2} y^{3} - 3 x^{2} y - 3 x^{2} - 20 x y^{4} + 30 x y^{3} + 6 x y^{2} + 6 x y + 40 y^{5} - 60 y^{4} - 10 y^{2} + 15 y + \\frac{20 y^{3}}{x} - \\frac{30 y^{2}}{x}\n",
      "\n",
      " pprint:\n",
      "                                                                              \n",
      "   5  2      4  3    4      3  3      3  2      3         2  4       2  3     \n",
      "2⋅x ⋅y  - 4⋅x ⋅y  + x  - 6⋅x ⋅y  - 6⋅x ⋅y  - 2⋅x ⋅y + 12⋅x ⋅y  + 12⋅x ⋅y  - 3⋅\n",
      "                                                                              \n",
      "\n",
      "                                                                              \n",
      " 2        2         4         3        2               5       4       2      \n",
      "x ⋅y - 3⋅x  - 20⋅x⋅y  + 30⋅x⋅y  + 6⋅x⋅y  + 6⋅x⋅y + 40⋅y  - 60⋅y  - 10⋅y  + 15⋅\n",
      "                                                                              \n",
      "\n",
      "        3       2\n",
      "    20⋅y    30⋅y \n",
      "y + ───── - ─────\n",
      "      x       x  \n"
     ]
    },
    {
     "data": {
      "text/plain": [
       "'display: '"
      ]
     },
     "metadata": {},
     "output_type": "display_data"
    },
    {
     "data": {
      "image/png": "[encoded data removed]",
      "text/latex": [
       "$\\displaystyle 2 x^{5} y^{2} - 4 x^{4} y^{3} + x^{4} - 6 x^{3} y^{3} - 6 x^{3} y^{2} - 2 x^{3} y + 12 x^{2} y^{4} + 12 x^{2} y^{3} - 3 x^{2} y - 3 x^{2} - 20 x y^{4} + 30 x y^{3} + 6 x y^{2} + 6 x y + 40 y^{5} - 60 y^{4} - 10 y^{2} + 15 y + \\frac{20 y^{3}}{x} - \\frac{30 y^{2}}{x}$"
      ],
      "text/plain": [
       "                                                                              \n",
       "   5  2      4  3    4      3  3      3  2      3         2  4       2  3     \n",
       "2⋅x ⋅y  - 4⋅x ⋅y  + x  - 6⋅x ⋅y  - 6⋅x ⋅y  - 2⋅x ⋅y + 12⋅x ⋅y  + 12⋅x ⋅y  - 3⋅\n",
       "                                                                              \n",
       "\n",
       "                                                                              \n",
       " 2        2         4         3        2               5       4       2      \n",
       "x ⋅y - 3⋅x  - 20⋅x⋅y  + 30⋅x⋅y  + 6⋅x⋅y  + 6⋅x⋅y + 40⋅y  - 60⋅y  - 10⋅y  + 15⋅\n",
       "                                                                              \n",
       "\n",
       "        3       2\n",
       "    20⋅y    30⋅y \n",
       "y + ───── - ─────\n",
       "      x       x  "
      ]
     },
     "metadata": {},
     "output_type": "display_data"
    },
    {
     "data": {
      "image/png": "[encoded data removed]",
      "text/latex": [
       "$\\displaystyle 2 x^{5} y^{2} - 4 x^{4} y^{3} + x^{4} - 6 x^{3} y^{3} - 6 x^{3} y^{2} - 2 x^{3} y + 12 x^{2} y^{4} + 12 x^{2} y^{3} - 3 x^{2} y - 3 x^{2} - 20 x y^{4} + 30 x y^{3} + 6 x y^{2} + 6 x y + 40 y^{5} - 60 y^{4} - 10 y^{2} + 15 y + \\frac{20 y^{3}}{x} - \\frac{30 y^{2}}{x}$"
      ],
      "text/plain": [
       "                                                                              \n",
       "   5  2      4  3    4      3  3      3  2      3         2  4       2  3     \n",
       "2⋅x ⋅y  - 4⋅x ⋅y  + x  - 6⋅x ⋅y  - 6⋅x ⋅y  - 2⋅x ⋅y + 12⋅x ⋅y  + 12⋅x ⋅y  - 3⋅\n",
       "                                                                              \n",
       "\n",
       "                                                                              \n",
       " 2        2         4         3        2               5       4       2      \n",
       "x ⋅y - 3⋅x  - 20⋅x⋅y  + 30⋅x⋅y  + 6⋅x⋅y  + 6⋅x⋅y + 40⋅y  - 60⋅y  - 10⋅y  + 15⋅\n",
       "                                                                              \n",
       "\n",
       "        3       2\n",
       "    20⋅y    30⋅y \n",
       "y + ───── - ─────\n",
       "      x       x  "
      ]
     },
     "execution_count": 86,
     "metadata": {},
     "output_type": "execute_result"
    }
   ],
   "source": [
    "x,y = sympy.symbols('x y')\n",
    "\n",
    "ex1 = (x - 2*y)*(x**2 + 2*y - 3)\n",
    "ex2 = (x**2 - 5*y)*(2*y**2 + 1/x)\n",
    "#1\n",
    "prod = sympy.expand(ex1*ex2)\n",
    "\n",
    "print('Q1 sympy-highp: highest power of x is 5')\n",
    "\n",
    "#print formatting??????? init_printing() doesn't do anything\n",
    "print('\\n print: \\n',prod)\n",
    "print('\\n latex: \\n ', sympy.latex(prod))\n",
    "print('\\n pprint:')\n",
    "sympy.pprint(prod)\n",
    "display(\"display: \", prod)\n",
    "prod "
   ]
  },
  {
   "cell_type": "code",
   "execution_count": 99,
   "metadata": {},
   "outputs": [
    {
     "data": {
      "image/png": "[encoded data removed]",
      "text/plain": [
       "<Figure size 432x288 with 1 Axes>"
      ]
     },
     "metadata": {
      "needs_background": "light"
     },
     "output_type": "display_data"
    },
    {
     "name": "stdout",
     "output_type": "stream",
     "text": [
      "Q2 sympy-roots:  9\n"
     ]
    },
    {
     "data": {
      "image/png": "[encoded data removed]",
      "text/latex": [
       "$\\displaystyle \\left[ -1, \\  - \\frac{1}{2}, \\  1, \\  2, \\  - \\sqrt{5}, \\  \\sqrt{5}\\right]$"
      ],
      "text/plain": [
       "[-1, -1/2, 1, 2, -√5, √5]"
      ]
     },
     "execution_count": 99,
     "metadata": {},
     "output_type": "execute_result"
    }
   ],
   "source": [
    "#2\n",
    "prod1 = prod.subs(y, 1)\n",
    "#uses same commands as plt\n",
    "sympy.plotting.plot(prod1, (x,-5,5), title='Product Function', ylim=(-50,50)) \n",
    "#how to zoom in?? just change x range?\n",
    "\n",
    "#roots\n",
    "roots = sympy.solve(prod1, x)\n",
    "quiz = sum(roots)*len(roots)\n",
    "print('Q2 sympy-roots: ', quiz)\n",
    "roots"
   ]
  },
  {
   "cell_type": "markdown",
   "metadata": {},
   "source": [
    "### Activity 2\n",
    "Name: `sympy-dxxy`, `sympy-int`\n",
    "\n",
    "\n",
    "1. Create an expression that is the derivative $\\frac{d^{3}}{d yd x^{2}}$ of the product of the expressions from Activity 1. Evaluate the derivative for $x = 1$ and $y = 0.5$ and enter into quiz `sympy-dxxy`.\n",
    "2. Evaluate the anti-derivative the function from Activity 1 part 2 (where $y=1$ in the product of the expressions) for $x = 1$ and enter the value into quiz `sympy-int` rounded to 3 decimals."
   ]
  },
  {
   "cell_type": "code",
   "execution_count": 89,
   "metadata": {},
   "outputs": [
    {
     "data": {
      "image/png": "[encoded data removed]",
      "text/latex": [
       "$\\displaystyle -77.0$"
      ],
      "text/plain": [
       "-77.0000000000000"
      ]
     },
     "execution_count": 89,
     "metadata": {},
     "output_type": "execute_result"
    }
   ],
   "source": [
    "#1\n",
    "deriv = sympy.diff(prod, y, x, 2)\n",
    "\n",
    "deriv.subs({x:1, y:.5})"
   ]
  },
  {
   "cell_type": "code",
   "execution_count": 98,
   "metadata": {},
   "outputs": [
    {
     "name": "stdout",
     "output_type": "stream",
     "text": [
      "Q2 sympy-int: -1.767\n"
     ]
    }
   ],
   "source": [
    "#2\n",
    "integral = sympy.integrate(prod1, x).subs(x,1)\n",
    "print('Q2 sympy-int: %.3f' %float(integral))"
   ]
  },
  {
   "cell_type": "code",
   "execution_count": null,
   "metadata": {},
   "outputs": [],
   "source": []
  },
  {
   "cell_type": "code",
   "execution_count": null,
   "metadata": {},
   "outputs": [],
   "source": []
  }
 ],
 "metadata": {
  "kernelspec": {
   "display_name": "Python 3",
   "language": "python",
   "name": "python3"
  },
  "language_info": {
   "codemirror_mode": {
    "name": "ipython",
    "version": 3
   },
   "file_extension": ".py",
   "mimetype": "text/x-python",
   "name": "python",
   "nbconvert_exporter": "python",
   "pygments_lexer": "ipython3",
   "version": "3.6.9"
  }
 },
 "nbformat": 4,
 "nbformat_minor": 4
}
